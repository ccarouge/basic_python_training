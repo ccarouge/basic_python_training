{
 "cells": [
  {
   "cell_type": "markdown",
   "metadata": {},
   "source": [
    "# Numpy and arrays"
   ]
  },
  {
   "cell_type": "code",
   "execution_count": 1,
   "metadata": {},
   "outputs": [],
   "source": [
    "import numpy as np"
   ]
  },
  {
   "cell_type": "markdown",
   "metadata": {},
   "source": [
    "## Create an array\n",
    "There are plenty of ways to do so depending on what you want. The low-level function is `np.ndarray()` which you probably won't use much. But the [webpage](https://docs.scipy.org/doc/numpy/reference/generated/numpy.ndarray.html) for this function is interesting as it lists all attributes and methods associated with numpy arrays!"
   ]
  },
  {
   "cell_type": "code",
   "execution_count": 2,
   "metadata": {},
   "outputs": [
    {
     "data": {
      "text/plain": [
       "array([[[1.13635099e-322, 0.00000000e+000, 0.00000000e+000],\n",
       "        [0.00000000e+000, 0.00000000e+000, 0.00000000e+000],\n",
       "        [0.00000000e+000, 0.00000000e+000, 0.00000000e+000],\n",
       "        [0.00000000e+000, 0.00000000e+000, 4.44659081e-322]],\n",
       "\n",
       "       [[1.28822975e-231, 1.28822975e-231, 1.28822975e-231],\n",
       "        [1.28822975e-231, 7.41098469e-323, 0.00000000e+000],\n",
       "        [0.00000000e+000, 0.00000000e+000, 0.00000000e+000],\n",
       "        [0.00000000e+000, 0.00000000e+000, 0.00000000e+000]]])"
      ]
     },
     "execution_count": 2,
     "metadata": {},
     "output_type": "execute_result"
    }
   ],
   "source": [
    "# Low-level \n",
    "rr = np.ndarray(shape=(2,4,3),dtype=float)\n",
    "rr"
   ]
  },
  {
   "cell_type": "code",
   "execution_count": 4,
   "metadata": {},
   "outputs": [
    {
     "name": "stdout",
     "output_type": "stream",
     "text": [
      "[[3. 4.]\n",
      " [5. 6.]]\n"
     ]
    }
   ],
   "source": [
    "# From list or tuple\n",
    "rr = np.array([[3.,4.],[5.,6.]])\n",
    "print(rr)"
   ]
  },
  {
   "cell_type": "code",
   "execution_count": 5,
   "metadata": {},
   "outputs": [
    {
     "name": "stdout",
     "output_type": "stream",
     "text": [
      "[['Claire' 'Paola']\n",
      " ['Scott' 'Danny']]\n"
     ]
    }
   ],
   "source": [
    "rr1 = np.array([['Claire','Paola'],['Scott','Danny']])  # It doesn't have to be a numerical type  \n",
    "print(rr1)"
   ]
  },
  {
   "cell_type": "code",
   "execution_count": 6,
   "metadata": {},
   "outputs": [
    {
     "name": "stdout",
     "output_type": "stream",
     "text": [
      "[['Claire' '10']\n",
      " ['Paola' '6']]\n"
     ]
    }
   ],
   "source": [
    "rr2 = np.array([['Claire',10], ['Paola', 6]]) # It doesn't have to be only 1 type\n",
    "print(rr2)"
   ]
  },
  {
   "cell_type": "code",
   "execution_count": 7,
   "metadata": {},
   "outputs": [
    {
     "name": "stdout",
     "output_type": "stream",
     "text": [
      "[[0. 0. 0.]\n",
      " [0. 0. 0.]]\n",
      "[[1 1 1 1]\n",
      " [1 1 1 1]]\n"
     ]
    }
   ],
   "source": [
    "# Initialise to 0 or 1.\n",
    "rr = np.zeros((2,3),dtype=float)\n",
    "print(rr)\n",
    "rr1 = np.ones((2,4),dtype=np.int32)\n",
    "print(rr1)"
   ]
  },
  {
   "cell_type": "code",
   "execution_count": 8,
   "metadata": {},
   "outputs": [
    {
     "data": {
      "text/plain": [
       "array([[0, 0, 0, 0],\n",
       "       [0, 0, 0, 0]], dtype=int32)"
      ]
     },
     "execution_count": 8,
     "metadata": {},
     "output_type": "execute_result"
    }
   ],
   "source": [
    "# Same shape as an existing array. It's possible to choose the data-type with the dtype argument.\n",
    "rr2 = np.zeros_like(rr1)\n",
    "rr2"
   ]
  },
  {
   "cell_type": "code",
   "execution_count": 9,
   "metadata": {},
   "outputs": [
    {
     "data": {
      "text/plain": [
       "array([ 5,  7,  9, 11, 13, 15, 17, 19, 21, 23, 25, 27, 29, 31, 33, 35, 37,\n",
       "       39, 41, 43])"
      ]
     },
     "execution_count": 9,
     "metadata": {},
     "output_type": "execute_result"
    }
   ],
   "source": [
    "# Evenly spaced values\n",
    "rr2= np.arange(5,45,2)\n",
    "rr2"
   ]
  },
  {
   "cell_type": "code",
   "execution_count": 10,
   "metadata": {},
   "outputs": [
    {
     "data": {
      "text/plain": [
       "array([[[ 5,  7],\n",
       "        [ 9, 11]],\n",
       "\n",
       "       [[13, 15],\n",
       "        [17, 19]],\n",
       "\n",
       "       [[21, 23],\n",
       "        [25, 27]],\n",
       "\n",
       "       [[29, 31],\n",
       "        [33, 35]],\n",
       "\n",
       "       [[37, 39],\n",
       "        [41, 43]]])"
      ]
     },
     "execution_count": 10,
     "metadata": {},
     "output_type": "execute_result"
    }
   ],
   "source": [
    "# Reshaping an existing array\n",
    "rr2 = rr2.reshape((5,2,2))\n",
    "rr2"
   ]
  },
  {
   "cell_type": "markdown",
   "metadata": {},
   "source": [
    "## Read data from file\n",
    "Do you remember the csv example from the last training? Here it is with numpy."
   ]
  },
  {
   "cell_type": "code",
   "execution_count": 11,
   "metadata": {},
   "outputs": [
    {
     "name": "stdout",
     "output_type": "stream",
     "text": [
      "[[50. 30. 40.]\n",
      " [70. 20. 30.]]\n",
      "[[50. 70.]\n",
      " [30. 20.]\n",
      " [40. 30.]]\n",
      "[50. 70.] [30. 20.] [40. 30.]\n"
     ]
    }
   ],
   "source": [
    "li = np.loadtxt('test.txt',delimiter=',',skiprows=2)\n",
    "print(li)\n",
    "# For the third format example, simply take the transpose\n",
    "print(li.T)\n",
    "# You want the columns in separate arrays?\n",
    "c1,c2,c3 = np.loadtxt('test.txt', delimiter=',',skiprows=2,unpack=True)\n",
    "print(c1,c2,c3)"
   ]
  },
  {
   "cell_type": "markdown",
   "metadata": {},
   "source": [
    "## Indexing\n",
    "It is the same as for lists etc, except for the multi-dimensional part:"
   ]
  },
  {
   "cell_type": "code",
   "execution_count": 12,
   "metadata": {},
   "outputs": [
    {
     "name": "stdout",
     "output_type": "stream",
     "text": [
      "First element [5 7]\n",
      "\n",
      "First index of the second dimension \n",
      " [[ 5  7]\n",
      " [13 15]\n",
      " [21 23]\n",
      " [29 31]\n",
      " [37 39]]\n",
      "\n",
      "First 2 indexes along the 1st dimension and all other indexes along other dimensions\n",
      " [[[ 5  7]\n",
      "  [ 9 11]]\n",
      "\n",
      " [[13 15]\n",
      "  [17 19]]]\n",
      "\n",
      "Stride [ 7 23 39]\n",
      "\n"
     ]
    }
   ],
   "source": [
    "print(f\"First element {rr2[0,0]}\\n\")\n",
    "print(f\"First index of the second dimension \\n {rr2[:,0,:]}\\n\")\n",
    "print(f\"First 2 indexes along the 1st dimension and all other indexes along other dimensions\\n {rr2[:2,:,:]}\\n\")\n",
    "print(f\"Stride {rr2[0:5:2,0,1]}\\n\")"
   ]
  },
  {
   "cell_type": "markdown",
   "metadata": {},
   "source": [
    "There is a generic form to say \"all other indexes along all other dimensions\", i.e. \"everything else\", without specifying the number of dimensions in your array. It can be used to indicate all dimensions before or after the specified slice:"
   ]
  },
  {
   "cell_type": "code",
   "execution_count": 13,
   "metadata": {},
   "outputs": [
    {
     "name": "stdout",
     "output_type": "stream",
     "text": [
      "Specify slices in all dimensions: \n",
      "[[[ 5  7]\n",
      "  [ 9 11]]\n",
      "\n",
      " [[13 15]\n",
      "  [17 19]]]\n",
      "\n",
      "Generic form:\n",
      "[[[ 5  7]\n",
      "  [ 9 11]]\n",
      "\n",
      " [[13 15]\n",
      "  [17 19]]]\n",
      "\n",
      "Any number of dimensions specified before:\n",
      "[[ 5  7]\n",
      " [13 15]]\n",
      "\n",
      "Works for the start of the array as well:\n",
      "[[ 5  9]\n",
      " [13 17]\n",
      " [21 25]\n",
      " [29 33]\n",
      " [37 41]]\n",
      "\n"
     ]
    }
   ],
   "source": [
    "print(f\"Specify slices in all dimensions: \\n{rr2[:2,:,:]}\\n\")\n",
    "print(f\"Generic form:\\n{rr2[:2,...]}\\n\")\n",
    "print(f\"Any number of dimensions specified before:\\n{rr2[:2,0,...]}\\n\")\n",
    "print(f\"Works for the start of the array as well:\\n{rr2[...,0]}\\n\")"
   ]
  },
  {
   "cell_type": "markdown",
   "metadata": {},
   "source": [
    "## Matlab users\n",
    "In Matlab, arrays are matrices. That is not true in Python. This means in Matlab, the multiplication is the matrice multiplication, in Python that's multiplication element by element.\n",
    "This [page](https://docs.scipy.org/doc/numpy/user/numpy-for-matlab-users.html#numpy-for-matlab-users-notes) provides a long table of equivalents between Matlab and Python."
   ]
  },
  {
   "cell_type": "markdown",
   "metadata": {},
   "source": [
    "## Operations with arrays along some given axis\n",
    "Obviously, `numpy` has a lot of handy functions for common operations. For example if you want the mean of an array:"
   ]
  },
  {
   "cell_type": "code",
   "execution_count": 14,
   "metadata": {},
   "outputs": [
    {
     "data": {
      "text/plain": [
       "24.0"
      ]
     },
     "execution_count": 14,
     "metadata": {},
     "output_type": "execute_result"
    }
   ],
   "source": [
    "rr2.mean()"
   ]
  },
  {
   "cell_type": "markdown",
   "metadata": {},
   "source": [
    "That's handy, what is even more handy is the possibility to calculate the mean over a given dimension only. For example, rr2 is 3D. Let's say the dimensions are time, latitude and longitude respectively and you want to calculate the time average at each spatial point:"
   ]
  },
  {
   "cell_type": "code",
   "execution_count": 15,
   "metadata": {},
   "outputs": [
    {
     "data": {
      "text/plain": [
       "array([[21., 23.],\n",
       "       [25., 27.]])"
      ]
     },
     "execution_count": 15,
     "metadata": {},
     "output_type": "execute_result"
    }
   ],
   "source": [
    "rr2.mean(axis=0)  # Remember indexes start at 0"
   ]
  },
  {
   "cell_type": "markdown",
   "metadata": {},
   "source": [
    "### Working with time\n",
    "There is already a lot out there. You probably won't need to develop much yourself.\n",
    "\n",
    "Numpy has a date data type: `datetime64`. Do not confuse `datetime64` from Numpy and `datetime` from Python! They do not have the same methods or abilities. Both can be useful.\n",
    "\n",
    "`datetime64` is relatively simple, it doesn't have a lot of built-in capabilities. When doing fancy date calculations in Python, the must is probably to work with `pandas`. `pandas` is built upon numpy so can readily convert `datetime64` to its own date and time objects. \n",
    "\n",
    "Note `xarray` and `pandas` are also very compatible with each other."
   ]
  },
  {
   "cell_type": "code",
   "execution_count": null,
   "metadata": {},
   "outputs": [],
   "source": [
    "print(np.datetime64('2020-04-15T05:00','ms'))\n",
    "print(np.datetime64('2020-04-10','M'))"
   ]
  },
  {
   "cell_type": "markdown",
   "metadata": {},
   "source": [
    "You can do simple calculations. For example, the number of days in February 2036:"
   ]
  },
  {
   "cell_type": "code",
   "execution_count": null,
   "metadata": {},
   "outputs": [],
   "source": [
    "print(np.datetime64('2036-03','D')-np.datetime64('2036-02','D'))"
   ]
  },
  {
   "cell_type": "markdown",
   "metadata": {},
   "source": [
    "Be careful of the unit:"
   ]
  },
  {
   "cell_type": "code",
   "execution_count": null,
   "metadata": {},
   "outputs": [],
   "source": [
    "print(np.datetime64('2036-03','M')-np.datetime64('2036-02','M'))"
   ]
  },
  {
   "cell_type": "markdown",
   "metadata": {},
   "source": [
    "It's possible to convert units. So if you want both the number of months and the number of days:"
   ]
  },
  {
   "cell_type": "code",
   "execution_count": null,
   "metadata": {},
   "outputs": [],
   "source": [
    "timeA = np.datetime64('1988-05','M')\n",
    "timeB = np.datetime64('1990-03','M')\n",
    "delta = timeB - timeA\n",
    "print(delta)\n",
    "deltaD = timeB.astype('datetime64[D]') - timeA.astype('datetime64[D]')\n",
    "print(deltaD)"
   ]
  },
  {
   "cell_type": "markdown",
   "metadata": {},
   "source": [
    "Note, `delta` and `deltaD` are not the strings printed out above. They are `numpy.timedelta64` objects. The `print()` function gives a pretty output because of the way the object has been developed."
   ]
  },
  {
   "cell_type": "code",
   "execution_count": null,
   "metadata": {},
   "outputs": [],
   "source": [
    "deltaD"
   ]
  },
  {
   "cell_type": "markdown",
   "metadata": {},
   "source": [
    "# Xarray \n",
    "Numpy is great but it is very generic. And it only gives you the raw data. The coder has to keep track of the additional information: is there a time dimension? What field does this data represent? etc.\n",
    "\n",
    "Xarray introduces labelled arrays which typically means you get self-described arrays: name of\n",
    "the field, name of dimensions, coordinates for the dimensions, etc.\n",
    "\n",
    "As such it works very well with the netCDF format since this is also a self-describing format."
   ]
  },
  {
   "cell_type": "code",
   "execution_count": 17,
   "metadata": {},
   "outputs": [],
   "source": [
    "import xarray as xr"
   ]
  },
  {
   "cell_type": "markdown",
   "metadata": {},
   "source": [
    "### Reading in netcdf file"
   ]
  },
  {
   "cell_type": "code",
   "execution_count": 18,
   "metadata": {},
   "outputs": [
    {
     "data": {
      "text/plain": [
       "<xarray.Dataset>\n",
       "Dimensions:           (lat: 73, lat_1: 72, lon: 96, lon_1: 96, time: 1, z0_hybrid_height: 38, z6_p_level: 16, z_pseudo5: 9)\n",
       "Coordinates:\n",
       "  * lat               (lat) float32 -90.0 -87.5 -85.0 -82.5 ... 85.0 87.5 90.0\n",
       "  * lat_1             (lat_1) float32 -88.75 -86.25 -83.75 ... 83.75 86.25 88.75\n",
       "  * lon               (lon) float32 0.0 3.75 7.5 11.25 ... 348.75 352.5 356.25\n",
       "  * lon_1             (lon_1) float32 1.875 5.625 9.375 ... 354.375 358.125\n",
       "  * time              (time) object 1980-01-16 00:00:00\n",
       "  * z0_hybrid_height  (z0_hybrid_height) float32 20.000338 ... 39254.832\n",
       "  * z6_p_level        (z6_p_level) float32 2000.0 3000.0 ... 92500.0 100000.0\n",
       "  * z_pseudo5         (z_pseudo5) float32 1.0 2.0 3.0 4.0 5.0 6.0 7.0 8.0 9.0\n",
       "Data variables:\n",
       "    cldh              (time, lat, lon) float32 ...\n",
       "    cldl              (time, lat, lon) float32 ...\n",
       "    cldlw             (time, lat, lon) float32 ...\n",
       "    cldm              (time, lat, lon) float32 ...\n",
       "    cldvl             (time, lat, lon) float32 ...\n",
       "    hfls              (time, lat, lon) float32 ...\n",
       "    hfsnwmlt          (time, lat, lon) float32 ...\n",
       "    hfss              (time, lat, lon) float32 ...\n",
       "    hfsstl            (time, z_pseudo5, lat, lon) float32 ...\n",
       "    hur               (time, z6_p_level, lat_1, lon_1) float32 ...\n",
       "    hurs              (time, lat, lon) float32 ...\n",
       "    hus               (time, z6_p_level, lat_1, lon_1) float32 ...\n",
       "    huss              (time, lat, lon) float32 ...\n",
       "    ilsnwmltamt       (time, lat, lon) float32 ...\n",
       "    lhfsnwmlt         (time, lat, lon) float32 ...\n",
       "    mc                (time, z0_hybrid_height, lat, lon) float32 ...\n",
       "    mc_d              (time, z0_hybrid_height, lat, lon) float32 ...\n",
       "    pfull             (time, z0_hybrid_height, lat, lon) float32 ...\n",
       "    pr                (time, lat, lon) float32 ...\n",
       "    prc1              (time, lat, lon) float32 ...\n",
       "    prc2              (time, lat, lon) float32 ...\n",
       "    ps                (time, lat, lon) float32 ...\n",
       "    psl               (time, lat, lon) float32 ...\n",
       "    rls               (time, lat, lon) float32 ...\n",
       "    rlut              (time, lat, lon) float32 ...\n",
       "    rlutcs            (time, lat, lon) float32 ...\n",
       "    rsdt              (time, lat, lon) float32 ...\n",
       "    rsn               (time, z_pseudo5, lat, lon) float32 ...\n",
       "    rss               (time, lat, lon) float32 ...\n",
       "    rsut              (time, lat, lon) float32 ...\n",
       "    rsutcs            (time, lat, lon) float32 ...\n",
       "    snw               (time, lat, lon) float32 ...\n",
       "    snwmlttl          (time, z_pseudo5, lat, lon) float32 ...\n",
       "    snwtl             (time, z_pseudo5, lat, lon) float32 ...\n",
       "    ta                (time, z6_p_level, lat_1, lon_1) float32 ...\n",
       "    tas               (time, lat, lon) float32 ...\n",
       "    ua                (time, z6_p_level, lat_1, lon_1) float32 ...\n",
       "    va                (time, z6_p_level, lat_1, lon_1) float32 ...\n",
       "    wa                (time, z6_p_level, lat_1, lon_1) float32 ...\n",
       "    wap               (time, z6_p_level, lat_1, lon_1) float32 ...\n",
       "    zg_pl             (time, z6_p_level, lat, lon) float32 ...\n",
       "Attributes:\n",
       "    input_file_format:               UM ancillary\n",
       "    input_uri:                       file:///g/data3/w48/dxa565/uasnb/uasnba@...\n",
       "    input_word_length:               8\n",
       "    history:                         PP/UM file read by cdunif. Converted to ...\n",
       "    input_byte_ordering:             big_endian\n",
       "    contact:                         duncan.ackerley@monash.edu\n",
       "    title:                           AMIP ACCESS1-0 prescribed land experimen...\n",
       "    Conventions:                     CF-1.6, ACDD-1.3\n",
       "    license:                         http://creativecommons.org/licenses/by-n...\n",
       "    id:                              http://dx.doi.org/10.4225/41/5977e0fed8c3e\n",
       "    product_version:                 1.0\n",
       "    references:                      Ackerley, D., Chadwick, R., Dommenget, D...\n",
       "    keywords:                        climatology, climate change processes, A...\n",
       "    date_created:                    2017-05-01\n",
       "    creator_name:                    Duncan Ackerley\n",
       "    creator_email:                   duncan.ackerley@monash.edu\n",
       "    publisher_name:                  Paola Petrelli\n",
       "    publisher_email:                 paola.petrelli@utas.edu.au\n",
       "    time_coverage_start:             1980-01\n",
       "    time_coverage_end:               1980-01\n",
       "    geospatial_lat_min:              -90.0\n",
       "    geospatial_lat_max:              90.0\n",
       "    geospatial_lon_min:              0.0\n",
       "    geospatial_lon_max:              356.25\n",
       "    source:                          ACCESS1-0 model\n",
       "    summary:                         PLAMIP: Prescribed Land AMIP ACCESS1-0 e...\n",
       "    DODS_EXTRA.Unlimited_Dimension:  time"
      ]
     },
     "execution_count": 18,
     "metadata": {},
     "output_type": "execute_result"
    }
   ],
   "source": [
    "# open netcdf file\n",
    "ds = xr.open_dataset(\"http://dapds00.nci.org.au/thredds/dodsC/ua8/ARCCSS_Data-10/v1-0/A/A_ACCESS1-0_N48_mon_198001.nc\")\n",
    "# see how all the info is there\n",
    "ds\n",
    "# print just a variable to see the variable level attributes."
   ]
  },
  {
   "cell_type": "code",
   "execution_count": 21,
   "metadata": {},
   "outputs": [
    {
     "data": {
      "text/plain": [
       "<xarray.DataArray 'rls' (time: 1, lat: 73, lon: 96)>\n",
       "array([[[-85.04779 , -85.04779 , ..., -85.04779 , -85.04779 ],\n",
       "        [-85.1753  , -75.705925, ..., -84.32134 , -83.1148  ],\n",
       "        ...,\n",
       "        [-33.764465, -34.466923, ..., -33.67685 , -33.510513],\n",
       "        [-32.67401 , -32.67401 , ..., -32.67401 , -32.67401 ]]], dtype=float32)\n",
       "Coordinates:\n",
       "  * lat      (lat) float32 -90.0 -87.5 -85.0 -82.5 -80.0 ... 82.5 85.0 87.5 90.0\n",
       "  * lon      (lon) float32 0.0 3.75 7.5 11.25 15.0 ... 345.0 348.75 352.5 356.25\n",
       "  * time     (time) object 1980-01-16 00:00:00\n",
       "Attributes:\n",
       "    stash_item:     201\n",
       "    stash_model:    1\n",
       "    lookup_source:  defaults (cdunifpp V0.13)\n",
       "    long_name:      NET DOWN SURFACE LW RAD FLUX\n",
       "    cell_methods:   time0: mean\n",
       "    units:          W m-2\n",
       "    stash_section:  2\n",
       "    name:           rls\n",
       "    standard_name:  surface_net_downward_longwave_flux\n",
       "    _ChunkSizes:    [ 1 73 96]"
      ]
     },
     "execution_count": 21,
     "metadata": {},
     "output_type": "execute_result"
    }
   ],
   "source": [
    "# Variables are stored in the Dataset in a dictionary so you can refer to them by name\n",
    "rls = ds['rls']\n",
    "rls"
   ]
  },
  {
   "cell_type": "markdown",
   "metadata": {},
   "source": [
    "### Calculations using dimension names\n",
    "Just like numpy, arrays have common functions as methods. But unlike numpy, you can identify\n",
    "dimensions by name instead of index position.\n",
    "\n",
    "Xarray arrays work with most numpy functions. If not, you can access the underlying numpy array."
   ]
  },
  {
   "cell_type": "code",
   "execution_count": 24,
   "metadata": {},
   "outputs": [
    {
     "name": "stdout",
     "output_type": "stream",
     "text": [
      "Global mean\n",
      " <xarray.DataArray 'rls' ()>\n",
      "array(-56.240013, dtype=float32) \n",
      "\n",
      "Latitudinal mean\n",
      " <xarray.DataArray 'rls' (time: 1, lon: 96)>\n",
      "array([[-65.07868 , -65.37613 , -64.70618 , -64.39044 , -69.30031 ,\n",
      "        -70.560196, -65.30518 , -62.82632 , -62.824474, -64.103745,\n",
      "        -63.9558  , -62.446503, -62.625507, -61.39565 , -58.8266  ,\n",
      "        -58.844254, -56.64406 , -55.481243, -55.534813, -54.987553,\n",
      "        -55.266018, -54.82552 , -53.676773, -52.727688, -53.03215 ,\n",
      "        -53.18777 , -54.2231  , -55.21256 , -52.177402, -53.9782  ,\n",
      "        -56.048336, -59.35567 , -60.828312, -61.524857, -60.709133,\n",
      "        -62.44562 , -61.66615 , -61.548393, -62.588665, -63.43029 ,\n",
      "        -60.082607, -57.584145, -56.094215, -56.11195 , -57.573315,\n",
      "        -58.06165 , -58.311844, -58.197613, -57.065845, -55.48336 ,\n",
      "        -53.607853, -51.58004 , -50.634834, -48.001503, -46.791443,\n",
      "        -46.95243 , -47.360912, -48.252716, -47.9827  , -47.850903,\n",
      "        -48.558064, -48.894497, -48.93608 , -49.33641 , -48.728718,\n",
      "        -49.422153, -50.01393 , -51.216854, -52.74647 , -52.1105  ,\n",
      "        -50.472885, -51.25765 , -51.55804 , -51.06484 , -51.271458,\n",
      "        -53.911533, -53.23371 , -62.124985, -62.11383 , -58.199585,\n",
      "        -56.153206, -55.400978, -53.16773 , -51.94509 , -52.276115,\n",
      "        -53.14384 , -54.83178 , -53.58006 , -54.504242, -53.79549 ,\n",
      "        -54.474117, -57.09789 , -59.582855, -61.793945, -61.99912 ,\n",
      "        -62.87437 ]], dtype=float32)\n",
      "Coordinates:\n",
      "  * lon      (lon) float32 0.0 3.75 7.5 11.25 15.0 ... 345.0 348.75 352.5 356.25\n",
      "  * time     (time) object 1980-01-16 00:00:00\n"
     ]
    }
   ],
   "source": [
    "print('Global mean\\n',rls.mean(),'\\n')\n",
    "print('Latitudinal mean\\n',rls.mean(dim='lat'))"
   ]
  },
  {
   "cell_type": "markdown",
   "metadata": {},
   "source": [
    "### Selection using coordinate values\n",
    "Remember how the variables have the dimension names and the coordinate arrays attached to them? This means you can select data using the coordinate names and values rather than indexes."
   ]
  },
  {
   "cell_type": "code",
   "execution_count": 27,
   "metadata": {},
   "outputs": [
    {
     "data": {
      "text/plain": [
       "<xarray.DataArray 'rls' (time: 1, lon: 96)>\n",
       "array([[-78.91502 , -79.517914, -79.996216, -80.039185, -80.90219 ,\n",
       "        -81.13495 , -80.93689 , -80.65609 , -80.43955 , -80.638405,\n",
       "        -81.093735, -81.89584 , -82.22673 , -82.744354, -82.887184,\n",
       "        -82.78501 , -81.997765, -82.52604 , -82.51298 , -82.86573 ,\n",
       "        -82.82742 , -83.66861 , -84.86151 , -85.836525, -87.581665,\n",
       "        -87.645805, -87.90844 , -88.266174, -88.57524 , -88.93431 ,\n",
       "        -89.14762 , -89.2583  , -89.356476, -88.979   , -87.7995  ,\n",
       "        -86.91375 , -86.51828 , -86.273415, -85.849785, -85.1514  ,\n",
       "        -85.21472 , -85.44402 , -85.11243 , -85.04279 , -85.10057 ,\n",
       "        -84.07228 , -83.49748 , -83.06319 , -81.94538 , -79.39505 ,\n",
       "        -78.17306 , -76.915   , -74.91874 , -72.4135  , -71.209785,\n",
       "        -70.21968 , -69.871605, -69.12709 , -67.774864, -66.29583 ,\n",
       "        -66.902306, -67.991554, -69.105774, -69.436775, -69.59273 ,\n",
       "        -69.72863 , -67.937485, -68.58894 , -67.70017 , -67.933105,\n",
       "        -68.58786 , -68.7379  , -68.67095 , -68.847824, -69.10074 ,\n",
       "        -68.50395 , -68.53525 , -69.2152  , -70.004395, -70.47403 ,\n",
       "        -71.0192  , -71.87433 , -72.74868 , -75.28848 , -77.20813 ,\n",
       "        -78.42013 , -79.39261 , -79.10827 , -78.66214 , -78.68258 ,\n",
       "        -78.590645, -78.38372 , -77.94817 , -77.42815 , -77.143234,\n",
       "        -77.04013 ]], dtype=float32)\n",
       "Coordinates:\n",
       "    lat      float32 -85.0\n",
       "  * lon      (lon) float32 0.0 3.75 7.5 11.25 15.0 ... 345.0 348.75 352.5 356.25\n",
       "  * time     (time) object 1980-01-16 00:00:00\n",
       "Attributes:\n",
       "    stash_item:     201\n",
       "    stash_model:    1\n",
       "    lookup_source:  defaults (cdunifpp V0.13)\n",
       "    long_name:      NET DOWN SURFACE LW RAD FLUX\n",
       "    cell_methods:   time0: mean\n",
       "    units:          W m-2\n",
       "    stash_section:  2\n",
       "    name:           rls\n",
       "    standard_name:  surface_net_downward_longwave_flux\n",
       "    _ChunkSizes:    [ 1 73 96]"
      ]
     },
     "execution_count": 27,
     "metadata": {},
     "output_type": "execute_result"
    }
   ],
   "source": [
    "rls.sel(lat=-85)"
   ]
  },
  {
   "cell_type": "markdown",
   "metadata": {},
   "source": [
    "Xarray can even interpolate for you. You don't have to know the exact values of the points that are in your array. For example you could ask for the nearest points to 100°E in longitude. I would not use this to actually interpolate a whole field! Just use it to save on typing or if you have a projected grid."
   ]
  },
  {
   "cell_type": "code",
   "execution_count": 28,
   "metadata": {},
   "outputs": [
    {
     "data": {
      "text/plain": [
       "<xarray.DataArray 'rls' (time: 1, lon: 96)>\n",
       "array([[-85.1753  , -75.705925, -75.94986 , -80.552826, -82.46028 ,\n",
       "        -83.114174, -83.22234 , -83.14253 , -83.41487 , -83.34453 ,\n",
       "        -83.244736, -83.19713 , -83.39504 , -83.62289 , -83.910225,\n",
       "        -83.77617 , -83.6847  , -83.4808  , -83.4019  , -83.3896  ,\n",
       "        -83.61194 , -83.97876 , -84.68072 , -85.53507 , -86.59625 ,\n",
       "        -87.021904, -87.56501 , -87.9751  , -88.32728 , -88.5918  ,\n",
       "        -88.725494, -88.89019 , -88.90684 , -88.9487  , -88.70379 ,\n",
       "        -88.60293 , -88.26766 , -88.079956, -88.03719 , -87.99103 ,\n",
       "        -87.724075, -87.82143 , -87.835884, -87.89696 , -87.73516 ,\n",
       "        -87.95004 , -87.9729  , -88.169525, -88.6229  , -88.892624,\n",
       "        -89.21364 , -89.640625, -89.868416, -90.09483 , -90.25166 ,\n",
       "        -90.37407 , -90.3296  , -90.12337 , -89.74752 , -89.34052 ,\n",
       "        -88.93714 , -88.44242 , -87.82386 , -87.15236 , -86.27502 ,\n",
       "        -85.175995, -84.16521 , -83.23818 , -82.44144 , -82.33053 ,\n",
       "        -81.96338 , -82.10429 , -82.002975, -81.412674, -80.677124,\n",
       "        -80.1934  , -79.975   , -79.865395, -80.42198 , -80.64712 ,\n",
       "        -80.78368 , -80.90227 , -80.739555, -81.016624, -81.06225 ,\n",
       "        -80.86612 , -81.21748 , -81.29049 , -81.71041 , -81.41651 ,\n",
       "        -81.071465, -80.8597  , -81.262215, -80.64862 , -84.32134 ,\n",
       "        -83.1148  ]], dtype=float32)\n",
       "Coordinates:\n",
       "    lat      float32 -87.5\n",
       "  * lon      (lon) float32 0.0 3.75 7.5 11.25 15.0 ... 345.0 348.75 352.5 356.25\n",
       "  * time     (time) object 1980-01-16 00:00:00\n",
       "Attributes:\n",
       "    stash_item:     201\n",
       "    stash_model:    1\n",
       "    lookup_source:  defaults (cdunifpp V0.13)\n",
       "    long_name:      NET DOWN SURFACE LW RAD FLUX\n",
       "    cell_methods:   time0: mean\n",
       "    units:          W m-2\n",
       "    stash_section:  2\n",
       "    name:           rls\n",
       "    standard_name:  surface_net_downward_longwave_flux\n",
       "    _ChunkSizes:    [ 1 73 96]"
      ]
     },
     "execution_count": 28,
     "metadata": {},
     "output_type": "execute_result"
    }
   ],
   "source": [
    "rls.sel(lat=-87, method='nearest')"
   ]
  },
  {
   "cell_type": "markdown",
   "metadata": {},
   "source": [
    "### Quick plotting\n",
    "It is very easy to do a quick plot of your data. It isn't a plot ready for publication but it can easily allow you to visualise your fields. And the nice touch is Xarray will automatically use the meta-data to add labelling to the plot."
   ]
  },
  {
   "cell_type": "markdown",
   "metadata": {},
   "source": [
    "Before plotting with matplotlib in Jupyter Notebook, you need to add a special line so the plots appear in the notebook. This only to be done once per notebook, not for each plot."
   ]
  },
  {
   "cell_type": "code",
   "execution_count": 30,
   "metadata": {},
   "outputs": [],
   "source": [
    "%matplotlib inline"
   ]
  },
  {
   "cell_type": "code",
   "execution_count": 31,
   "metadata": {},
   "outputs": [
    {
     "data": {
      "text/plain": [
       "<matplotlib.collections.QuadMesh at 0x11e591128>"
      ]
     },
     "execution_count": 31,
     "metadata": {},
     "output_type": "execute_result"
    },
    {
     "data": {
      "image/png": "[encoded data removed]",
      "text/plain": [
       "<Figure size 432x288 with 2 Axes>"
      ]
     },
     "metadata": {
      "needs_background": "light"
     },
     "output_type": "display_data"
    }
   ],
   "source": [
    "rls.plot()"
   ]
  },
  {
   "cell_type": "markdown",
   "metadata": {},
   "source": [
    "Note we haven't loaded matplotlib, but because xarray uses it, it loads it for us."
   ]
  },
  {
   "cell_type": "markdown",
   "metadata": {},
   "source": [
    "### Save data to file\n",
    "There is a very simple way to save data back to a netcdf file. It isn't necessarily the fastest way. But you should only have to write out some analysed fields using Python which means relatively small amounts of data.\n",
    "\n",
    "Note, netcdf support inline compression so you should ALWAYS save your data compressed. Inline compression means the file just looks the same, access is the same, you don't need to uncompress before being able to see the information from the file."
   ]
  },
  {
   "cell_type": "code",
   "execution_count": 33,
   "metadata": {},
   "outputs": [],
   "source": [
    "# Compression\n",
    "encod={}\n",
    "for var in ds.data_vars:   # data_vars stores the names of the variables in a dataset, as strings\n",
    "    encod[var]={'zlib':True}\n",
    "\n",
    "# Write to file\n",
    "ds.to_netcdf('test.nc',encoding=encod)"
   ]
  },
  {
   "cell_type": "markdown",
   "metadata": {},
   "source": [
    "### More info\n",
    "This was a very very quick presentation of `xarray`. We were simply trying to give you the very basics, especially highlights the philosophy of the package. We will run a `xarray` training soon. In the meantime if you want to know more, you can always run through [xarray quick overview](http://xarray.pydata.org/en/stable/quick-overview.html)"
   ]
  },
  {
   "cell_type": "code",
   "execution_count": null,
   "metadata": {},
   "outputs": [],
   "source": []
  }
 ],
 "metadata": {
  "kernelspec": {
   "display_name": "Python 3",
   "language": "python",
   "name": "python3"
  },
  "language_info": {
   "codemirror_mode": {
    "name": "ipython",
    "version": 3
   },
   "file_extension": ".py",
   "mimetype": "text/x-python",
   "name": "python",
   "nbconvert_exporter": "python",
   "pygments_lexer": "ipython3",
   "version": "3.7.2"
  }
 },
 "nbformat": 4,
 "nbformat_minor": 2
}
