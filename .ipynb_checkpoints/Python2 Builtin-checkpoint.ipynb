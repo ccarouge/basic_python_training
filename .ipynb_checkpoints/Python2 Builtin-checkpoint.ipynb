{
 "cells": [
  {
   "cell_type": "markdown",
   "metadata": {},
   "source": [
    " # Other built-in types\n",
    "\n",
    " Python obviously has a lot of objects built-in. Here we are going to have a quick look at those you are most likely to use at the start.\n",
    "\n",
    " In this notebook, we'll see:\n",
    "  - lists\n",
    "  - tuples\n",
    "  - dictionaries\n",
    "  - copy vs. pointers\n",
    "  - some interesting methods of these builtin types (including strings) as exercises."
   ]
  },
  {
   "cell_type": "markdown",
   "metadata": {},
   "source": [
    " ---\n",
    " # Lists"
   ]
  },
  {
   "cell_type": "markdown",
   "metadata": {},
   "source": [
    " Lists look like arrays but are not arrays! Lists can contain elements of different types and are always 1 dimension.\n",
    "\n",
    " A list can probably have any object as an element: other lists, strings, numbers, arrays, functions etc. A list simply allows you to create a collection of objects. It doesn't inform you in any way how these objects are related to each other (or if indeed they are related)."
   ]
  },
  {
   "cell_type": "code",
   "execution_count": 1,
   "metadata": {},
   "outputs": [
    {
     "name": "stdout",
     "output_type": "stream",
     "text": [
      "First list length:  2\n",
      "I'm still 2 elements long:  2\n",
      "Easy to add elements to lists:  [['a', 'b'], 3, 5]\n"
     ]
    }
   ],
   "source": [
    "l = [] # Empty list\n",
    "l = ['a',1]  # List of 2 elements\n",
    "print(\"First list length: \",len(l))\n",
    "l = [['a','b'],3]  # A list can have another list as an element. But l is still a 2 elements list.\n",
    "print(\"I'm still 2 elements long: \", len(l))\n",
    "l.append(5)\n",
    "print(\"Easy to add elements to lists: \", l)\n"
   ]
  },
  {
   "cell_type": "markdown",
   "metadata": {},
   "source": [
    " Lists are indexable. List elements can be changed, i.e lists are mutable objects:"
   ]
  },
  {
   "cell_type": "code",
   "execution_count": 2,
   "metadata": {},
   "outputs": [
    {
     "name": "stdout",
     "output_type": "stream",
     "text": [
      "['a', 'b']\n",
      "new\n"
     ]
    }
   ],
   "source": [
    "print(l[0])\n",
    "l[0]='new'\n",
    "print(l[0])\n"
   ]
  },
  {
   "cell_type": "markdown",
   "metadata": {},
   "source": [
    " If you have a subscriptable object as a list element, how do you access this element's subscripts? For example, you have the word \"new\" in the first element of a list and you want to know the last character:"
   ]
  },
  {
   "cell_type": "code",
   "execution_count": 3,
   "metadata": {},
   "outputs": [
    {
     "data": {
      "text/plain": [
       "'w'"
      ]
     },
     "execution_count": 3,
     "metadata": {},
     "output_type": "execute_result"
    }
   ],
   "source": [
    "l[0][-1]\n",
    "\n"
   ]
  },
  {
   "cell_type": "code",
   "execution_count": 4,
   "metadata": {},
   "outputs": [
    {
     "ename": "TypeError",
     "evalue": "'int' object is not subscriptable",
     "output_type": "error",
     "traceback": [
      "\u001b[0;31m---------------------------------------------------------------------------\u001b[0m",
      "\u001b[0;31mTypeError\u001b[0m                                 Traceback (most recent call last)",
      "\u001b[0;32m<ipython-input-4-006c59c028a7>\u001b[0m in \u001b[0;36m<module>\u001b[0;34m\u001b[0m\n\u001b[1;32m      1\u001b[0m \u001b[0;31m# Returns an error with non-subscriptable objects\u001b[0m\u001b[0;34m\u001b[0m\u001b[0;34m\u001b[0m\u001b[0m\n\u001b[0;32m----> 2\u001b[0;31m \u001b[0ml\u001b[0m\u001b[0;34m[\u001b[0m\u001b[0;36m1\u001b[0m\u001b[0;34m]\u001b[0m\u001b[0;34m[\u001b[0m\u001b[0;34m-\u001b[0m\u001b[0;36m1\u001b[0m\u001b[0;34m]\u001b[0m\u001b[0;34m\u001b[0m\u001b[0m\n\u001b[0m",
      "\u001b[0;31mTypeError\u001b[0m: 'int' object is not subscriptable"
     ]
    }
   ],
   "source": [
    "# Returns an error with non-subscriptable objects\n",
    "l[1][-1]\n"
   ]
  },
  {
   "cell_type": "markdown",
   "metadata": {},
   "source": [
    " ## Convert to list\n",
    " You can convert an iterable object to a list with the builtin function: `list()`.\n",
    " Each element of the initial object will become an element in the list:"
   ]
  },
  {
   "cell_type": "code",
   "execution_count": 5,
   "metadata": {},
   "outputs": [
    {
     "name": "stdout",
     "output_type": "stream",
     "text": [
      "['C', 'l', 'a', 'i', 'r', 'e']\n"
     ]
    }
   ],
   "source": [
    "a = \"Claire\"\n",
    "b = list(a)\n",
    "print(b)\n"
   ]
  },
  {
   "cell_type": "markdown",
   "metadata": {},
   "source": [
    " ---\n",
    " # Tuples\n",
    "\n",
    " Tuples are like lists but are immutable. That means elements of a tuple can't be changed, added, removed. It can be useful for a collection of objects you don't want to inadvertently change in your code. For example, a collection of names of experiments, paths, models etc. Although tuples are rarely used and people tend to simply use lists."
   ]
  },
  {
   "cell_type": "code",
   "execution_count": 6,
   "metadata": {},
   "outputs": [],
   "source": [
    "t = ()  # Empty tuple\n",
    "t = (1,2,3)\n",
    "t = 4,5,6  # Parentheses are optional!\n",
    "t = 1,  # Don't forget the comma to define a 1-element tuple!\n",
    "\n"
   ]
  },
  {
   "cell_type": "code",
   "execution_count": 7,
   "metadata": {},
   "outputs": [
    {
     "data": {
      "text/plain": [
       "(1,)"
      ]
     },
     "execution_count": 7,
     "metadata": {},
     "output_type": "execute_result"
    }
   ],
   "source": [
    "t\n",
    "\n"
   ]
  },
  {
   "cell_type": "code",
   "execution_count": 8,
   "metadata": {},
   "outputs": [
    {
     "ename": "TypeError",
     "evalue": "'tuple' object does not support item assignment",
     "output_type": "error",
     "traceback": [
      "\u001b[0;31m---------------------------------------------------------------------------\u001b[0m",
      "\u001b[0;31mTypeError\u001b[0m                                 Traceback (most recent call last)",
      "\u001b[0;32m<ipython-input-8-7b1c8be80904>\u001b[0m in \u001b[0;36m<module>\u001b[0;34m\u001b[0m\n\u001b[1;32m      1\u001b[0m \u001b[0;31m# As said earlier, they are immutable\u001b[0m\u001b[0;34m\u001b[0m\u001b[0;34m\u001b[0m\u001b[0m\n\u001b[1;32m      2\u001b[0m \u001b[0mt\u001b[0m\u001b[0;34m=\u001b[0m\u001b[0;36m1\u001b[0m\u001b[0;34m,\u001b[0m\u001b[0;36m2\u001b[0m\u001b[0;34m,\u001b[0m\u001b[0;36m3\u001b[0m\u001b[0;34m\u001b[0m\u001b[0m\n\u001b[0;32m----> 3\u001b[0;31m \u001b[0mt\u001b[0m\u001b[0;34m[\u001b[0m\u001b[0;36m0\u001b[0m\u001b[0;34m]\u001b[0m\u001b[0;34m=\u001b[0m\u001b[0;36m3\u001b[0m\u001b[0;34m\u001b[0m\u001b[0m\n\u001b[0m",
      "\u001b[0;31mTypeError\u001b[0m: 'tuple' object does not support item assignment"
     ]
    }
   ],
   "source": [
    "# As said earlier, they are immutable\n",
    "t=1,2,3\n",
    "t[0]=3\n"
   ]
  },
  {
   "cell_type": "markdown",
   "metadata": {},
   "source": [
    " ## Convert to tuple\n",
    " Same as lists, you can convert interable objects to tuples with the builtin function: `tuple()`."
   ]
  },
  {
   "cell_type": "code",
   "execution_count": 9,
   "metadata": {},
   "outputs": [
    {
     "data": {
      "text/plain": [
       "(1, 3, 4)"
      ]
     },
     "execution_count": 9,
     "metadata": {},
     "output_type": "execute_result"
    }
   ],
   "source": [
    "a = [1,3,4]\n",
    "b = tuple(a)\n",
    "b\n"
   ]
  },
  {
   "cell_type": "markdown",
   "metadata": {},
   "source": [
    " ---\n",
    " # Copy or not?\n",
    " There is another consequence to all this talk about mutable or immutable. It has to do with how Python manages memory.\n",
    " To reduce the memory footprint of a program, Python will try to make pointers instead of copying the same values at different places in memory.\n",
    " That means if 2 variables are the same mutable object both will change if an element of one is changed.\n",
    " If one of the object is assigned to something else, then only this object will change.\n",
    " Let's see what this means with an example for a list"
   ]
  },
  {
   "cell_type": "code",
   "execution_count": 10,
   "metadata": {},
   "outputs": [
    {
     "name": "stdout",
     "output_type": "stream",
     "text": [
      "[2, 2, 3] [2, 2, 3]\n"
     ]
    }
   ],
   "source": [
    "# If we change the first element of one list, the other one changes too.\n",
    "l = [1,2,3]\n",
    "ll = l\n",
    "ll[0]=2\n",
    "print(l, ll)\n"
   ]
  },
  {
   "cell_type": "code",
   "execution_count": 11,
   "metadata": {},
   "outputs": [
    {
     "name": "stdout",
     "output_type": "stream",
     "text": [
      "[2, 2, 3] [1, 2, 3]\n"
     ]
    }
   ],
   "source": [
    "# If we reassign l to a different list (even if it's the same as initially), only l changes.\n",
    "l = [1,2,3]\n",
    "print(ll,l)\n"
   ]
  },
  {
   "cell_type": "markdown",
   "metadata": {},
   "source": [
    " Since it is impossible to change only 1 element of an immutable object, any change made on those isn't reflected to other objects initially pointing to the same memory."
   ]
  },
  {
   "cell_type": "markdown",
   "metadata": {},
   "source": [
    " ---\n",
    " # Dictionaries\n",
    "\n",
    " Dictionaries allow you to label values. For example, if you'd like to keep track of a grid description (rectilinear), you might need a grid name, first lon/lat, the resolution, last lon/lat. A dictionary allows you to keep all those values together in one object and allows you to refer to each by name instead of position for example."
   ]
  },
  {
   "cell_type": "code",
   "execution_count": 12,
   "metadata": {},
   "outputs": [
    {
     "data": {
      "text/plain": [
       "{'name': 'my_grid',\n",
       " 'first_lon': -180.0,\n",
       " 'first_lat': -90.0,\n",
       " 'last_lon': 180.0,\n",
       " 'last_lat': 90.0,\n",
       " 'res': 0.5}"
      ]
     },
     "execution_count": 12,
     "metadata": {},
     "output_type": "execute_result"
    }
   ],
   "source": [
    "d={\n",
    "    \"name\":\"my_grid\",\n",
    "    \"first_lon\":-180.,\n",
    "    \"first_lat\":-90.,\n",
    "    \"last_lon\":180.,\n",
    "    \"last_lat\":90.,\n",
    "    \"res\":0.5\n",
    "}\n",
    "d\n",
    "\n"
   ]
  },
  {
   "cell_type": "code",
   "execution_count": 13,
   "metadata": {},
   "outputs": [
    {
     "data": {
      "text/plain": [
       "'my_grid'"
      ]
     },
     "execution_count": 13,
     "metadata": {},
     "output_type": "execute_result"
    }
   ],
   "source": [
    "d[\"name\"]\n"
   ]
  },
  {
   "cell_type": "markdown",
   "metadata": {},
   "source": [
    " The values associated to each key can be very complicated objects. For example, we could have only \"first_point\" and \"last_point\" keys, each pointing to a dictionary with lat and lon as keys:"
   ]
  },
  {
   "cell_type": "code",
   "execution_count": 14,
   "metadata": {},
   "outputs": [
    {
     "name": "stdout",
     "output_type": "stream",
     "text": [
      "{'lon': -180.0, 'lat': -90.0} {'lon': 180.0, 'lat': 90.0}\n"
     ]
    }
   ],
   "source": [
    "point0={\"lon\":-180., \"lat\":-90.}\n",
    "point1=point0.copy()\n",
    "point1[\"lon\"]=180.\n",
    "point1[\"lat\"]=90.\n",
    "print(point0, point1)\n",
    "\n"
   ]
  },
  {
   "cell_type": "code",
   "execution_count": 15,
   "metadata": {},
   "outputs": [
    {
     "data": {
      "text/plain": [
       "{'lon': -180.0, 'lat': -90.0}"
      ]
     },
     "execution_count": 15,
     "metadata": {},
     "output_type": "execute_result"
    }
   ],
   "source": [
    "d={'name':\"my_grid\", \"first_point\":point0, \"last_point\":point1, \"res\":0.5}\n",
    "d[\"first_point\"]\n"
   ]
  },
  {
   "cell_type": "markdown",
   "metadata": {},
   "source": [
    " If you have several grids you want to keep track of. Each key could have a list of values (or tuples). Or you could create a list of dictionaries. So you have 1 dictionary per grid and you keep them all together in a list (or tuple). The second option might be better as it allows you to create a dictionary for a new grid more easily. Copy one of the dictionary and change only the keys you need for the new grid. Then append to the list."
   ]
  },
  {
   "cell_type": "markdown",
   "metadata": {},
   "source": [
    " ---\n",
    " These are all the concepts we wanted to introduce.\n",
    " As a summary we've seen:\n",
    "  - strings, lists, tuples, dictionaries\n",
    "  - how to format strings with `str.format()` and f-strings\n",
    "  - Builtin functions:\n",
    "     - print()\n",
    "     - len()\n",
    "     - any()\n",
    "     - all()\n",
    "     - list()\n",
    "     - tuple()\n",
    "     - dict()\n",
    "  - For loops\n",
    "  - If constructs\n",
    "  - A few useful methods and other builtin functions in the exercises.\n",
    "    For additional builtin functions: https://docs.python.org/3/library/functions.html"
   ]
  },
  {
   "cell_type": "code",
   "execution_count": 16,
   "metadata": {},
   "outputs": [],
   "source": []
  }
 ],
 "metadata": {
  "file_extension": ".py",
  "kernelspec": {
   "display_name": "Python 3",
   "language": "python",
   "name": "python3"
  },
  "language_info": {
   "codemirror_mode": {
    "name": "ipython",
    "version": 3
   },
   "file_extension": ".py",
   "mimetype": "text/x-python",
   "name": "python",
   "nbconvert_exporter": "python",
   "pygments_lexer": "ipython3",
   "version": "3.6.6"
  },
  "mimetype": "text/x-python",
  "name": "python",
  "npconvert_exporter": "python",
  "pygments_lexer": "ipython3",
  "version": 3
 },
 "nbformat": 4,
 "nbformat_minor": 2
}
