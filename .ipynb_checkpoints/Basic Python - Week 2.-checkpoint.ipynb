{
 "cells": [
  {
   "cell_type": "markdown",
   "metadata": {},
   "source": [
    "# Functions\n",
    "Inspiration from: https://www.tutorialspoint.com/python3/python_functions.htm"
   ]
  },
  {
   "cell_type": "markdown",
   "metadata": {},
   "source": [
    "## Definition"
   ]
  },
  {
   "cell_type": "markdown",
   "metadata": {},
   "source": [
    "## Type of arguments"
   ]
  },
  {
   "cell_type": "markdown",
   "metadata": {},
   "source": [
    "## Global vs local scope\n",
    "Variables defined in function are local, unknown from outside\n",
    "Take example from the tutorial above and ask people what is going on."
   ]
  },
  {
   "cell_type": "markdown",
   "metadata": {},
   "source": [
    "## Pass by Reference vs Value\n",
    "Things are different again whether we change one element of an iterable object or completely redifine the object."
   ]
  },
  {
   "cell_type": "markdown",
   "metadata": {},
   "source": [
    "## Lambda function"
   ]
  },
  {
   "cell_type": "markdown",
   "metadata": {},
   "source": [
    "---"
   ]
  },
  {
   "cell_type": "markdown",
   "metadata": {},
   "source": [
    "# Read in files, Write to files"
   ]
  },
  {
   "cell_type": "code",
   "execution_count": null,
   "metadata": {},
   "outputs": [],
   "source": [
    "# open, close\n",
    "# read(), readline(), readlines()\n",
    "# write(), writeline(), writelines()"
   ]
  },
  {
   "cell_type": "markdown",
   "metadata": {},
   "source": [
    "To open a text file, there is the `open()` function. It accepts 2 arguments: name of the file and the opening mode for the file.\n",
    "\n",
    "| Modes | Meaning |\n",
    "|:------:|--------|\n",
    "| r   | read-only mode |\n",
    "| w   | write-only mode |\n",
    "| a   | append to existing file |\n",
    "| r+  | read and write mode |\n",
    "\n",
    "To read in data, there are 3 methods: `read()`, `readline()`, `readlines()`. The only difference is the amount of data they read from the file. `read()` will only read the given number of charaters (or whole file), `readline()` reads the file line by line, `readlines()` reads in the entire file or a maximum number of bytes/characters.\n",
    "\n",
    "To close a file, use the `close()` method."
   ]
  },
  {
   "cell_type": "code",
   "execution_count": 9,
   "metadata": {},
   "outputs": [],
   "source": [
    "# f.seek(0) allows to rewind the file to the start of the file after each read.\n",
    "# Check what each output looks like. What is the difference between `f.read()` and `f.readlines()`?\n",
    "f = open('test.txt','r')\n",
    "whole_file = f.read()\n",
    "f.seek(0)\n",
    "first_line = f.readline()\n",
    "f.seek(0)\n",
    "whole2 = f.readlines()\n",
    "f.close()"
   ]
  },
  {
   "cell_type": "markdown",
   "metadata": {},
   "source": [
    "It is also possible to use the `with` statement to work with files. This is commonly used as it provides better error handling and closes the file for you."
   ]
  },
  {
   "cell_type": "code",
   "execution_count": 11,
   "metadata": {},
   "outputs": [
    {
     "name": "stdout",
     "output_type": "stream",
     "text": [
      "This is an example text file.\n",
      "\n"
     ]
    },
    {
     "ename": "ValueError",
     "evalue": "I/O operation on closed file.",
     "output_type": "error",
     "traceback": [
      "\u001b[0;31m---------------------------------------------------------------------------\u001b[0m",
      "\u001b[0;31mValueError\u001b[0m                                Traceback (most recent call last)",
      "\u001b[0;32m<ipython-input-11-cd3d5c2f217c>\u001b[0m in \u001b[0;36m<module>\u001b[0;34m\u001b[0m\n\u001b[1;32m      2\u001b[0m     \u001b[0mfirst_line\u001b[0m \u001b[0;34m=\u001b[0m \u001b[0mf\u001b[0m\u001b[0;34m.\u001b[0m\u001b[0mreadline\u001b[0m\u001b[0;34m(\u001b[0m\u001b[0;34m)\u001b[0m\u001b[0;34m\u001b[0m\u001b[0;34m\u001b[0m\u001b[0m\n\u001b[1;32m      3\u001b[0m \u001b[0mprint\u001b[0m\u001b[0;34m(\u001b[0m\u001b[0mfirst_line\u001b[0m\u001b[0;34m)\u001b[0m\u001b[0;34m\u001b[0m\u001b[0;34m\u001b[0m\u001b[0m\n\u001b[0;32m----> 4\u001b[0;31m \u001b[0msecond_line\u001b[0m \u001b[0;34m=\u001b[0m \u001b[0mf\u001b[0m\u001b[0;34m.\u001b[0m\u001b[0mreadline\u001b[0m\u001b[0;34m(\u001b[0m\u001b[0;34m)\u001b[0m\u001b[0;34m\u001b[0m\u001b[0;34m\u001b[0m\u001b[0m\n\u001b[0m\u001b[1;32m      5\u001b[0m \u001b[0mprint\u001b[0m\u001b[0;34m(\u001b[0m\u001b[0msecond_line\u001b[0m\u001b[0;34m)\u001b[0m\u001b[0;34m\u001b[0m\u001b[0;34m\u001b[0m\u001b[0m\n",
      "\u001b[0;31mValueError\u001b[0m: I/O operation on closed file."
     ]
    }
   ],
   "source": [
    "with open('test.txt','r') as f:\n",
    "    first_line = f.readline()\n",
    "\n",
    "print(first_line)\n",
    "second_line = f.readline()\n",
    "print(second_line)"
   ]
  },
  {
   "cell_type": "markdown",
   "metadata": {},
   "source": [
    "### Exercise\n",
    "Create a list of the numerical values in test.txt. Make sure the values are of a numeric type (hint: check the Python builtin functions here).\n",
    "\n",
    "The format of the list is to your preference:\n",
    "\n",
    "`[50,30,40,70,20,30]`\n",
    "\n",
    "`[[50,30,40],[70,20,30]]`\n",
    "\n",
    "`[[50,70],[30,20],[40,30]]`"
   ]
  },
  {
   "cell_type": "code",
   "execution_count": 53,
   "metadata": {},
   "outputs": [
    {
     "name": "stdout",
     "output_type": "stream",
     "text": [
      "[50, 30, 40, 70, 20, 30]\n",
      "[[50, 30, 40], [70, 20, 30]]\n",
      "[50, 30, 40]\n",
      "[[50, 70], [30, 20], [40, 30]]\n"
     ]
    }
   ],
   "source": [
    "with open('test.txt','r') as f:\n",
    "    # skip the header\n",
    "    head_length=2 # number of lines in the reader\n",
    "    for i in range(head_length):\n",
    "        f.readline()\n",
    "    \n",
    "    # Create a list to store the data\n",
    "    li = []\n",
    "    li2 = []\n",
    "    li3 = []\n",
    "    # Read each line and parse as needed.\n",
    "    for line in f.readlines():\n",
    "        tt = line.split(',')\n",
    "        tmp = [int(numb) for numb in tt]\n",
    "        li.extend(tmp)\n",
    "        li2.append(tmp)\n",
    "        if li3 == []:\n",
    "            li3=[[n] for n in tmp]\n",
    "        else:\n",
    "            for ind in range(len(tmp)):\n",
    "                li3[ind].append(tmp[ind])\n",
    "print(li)\n",
    "print(li2)\n",
    "print(li3)"
   ]
  },
  {
   "cell_type": "markdown",
   "metadata": {},
   "source": [
    "# Additional packages"
   ]
  },
  {
   "cell_type": "code",
   "execution_count": 29,
   "metadata": {},
   "outputs": [
    {
     "data": {
      "text/plain": [
       "[[3], 4, 5]"
      ]
     },
     "execution_count": 29,
     "metadata": {},
     "output_type": "execute_result"
    }
   ],
   "source": [
    "a=[3,4,5]\n",
    "a[0] = [a[0]]\n",
    "a"
   ]
  },
  {
   "cell_type": "code",
   "execution_count": 46,
   "metadata": {},
   "outputs": [
    {
     "data": {
      "text/plain": [
       "[[50, 70], [30], [40]]"
      ]
     },
     "execution_count": 46,
     "metadata": {},
     "output_type": "execute_result"
    }
   ],
   "source": [
    "tmp=[70,20,30]\n",
    "li3 = [[50],[30],[40]]\n",
    "li3[0].append(tmp[0])\n",
    "li3"
   ]
  },
  {
   "cell_type": "code",
   "execution_count": null,
   "metadata": {},
   "outputs": [],
   "source": []
  }
 ],
 "metadata": {
  "kernelspec": {
   "display_name": "Python 3",
   "language": "python",
   "name": "python3"
  },
  "language_info": {
   "codemirror_mode": {
    "name": "ipython",
    "version": 3
   },
   "file_extension": ".py",
   "mimetype": "text/x-python",
   "name": "python",
   "nbconvert_exporter": "python",
   "pygments_lexer": "ipython3",
   "version": "3.7.2"
  }
 },
 "nbformat": 4,
 "nbformat_minor": 2
}
