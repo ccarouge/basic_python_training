{
 "cells": [
  {
   "cell_type": "markdown",
   "metadata": {},
   "source": [
    "# Numpy and arrays"
   ]
  },
  {
   "cell_type": "code",
   "execution_count": null,
   "metadata": {},
   "outputs": [],
   "source": [
    "import numpy as np"
   ]
  },
  {
   "cell_type": "markdown",
   "metadata": {},
   "source": [
    "## Create an array\n",
    "There are plenty of ways to do so depending on what you want. The low-level function is `np.ndarray()` which you probably won't use much. But the [webpage](https://docs.scipy.org/doc/numpy/reference/generated/numpy.ndarray.html) for this function is interesting as it lists all attributes and methods associated with numpy arrays!"
   ]
  },
  {
   "cell_type": "code",
   "execution_count": null,
   "metadata": {},
   "outputs": [],
   "source": [
    "# Low-level \n",
    "rr = np.ndarray(shape=(2,4,3),dtype=float)\n",
    "rr"
   ]
  },
  {
   "cell_type": "code",
   "execution_count": null,
   "metadata": {},
   "outputs": [],
   "source": [
    "# From list or tuple\n",
    "rr = np.array([[3.,4.],[5.,6.]])\n",
    "print(rr)"
   ]
  },
  {
   "cell_type": "code",
   "execution_count": null,
   "metadata": {},
   "outputs": [],
   "source": [
    "rr1 = np.array([['Claire','Paola'],['Scott','Danny']])  # It doesn't have to be a numerical type  \n",
    "print(rr1)"
   ]
  },
  {
   "cell_type": "code",
   "execution_count": null,
   "metadata": {},
   "outputs": [],
   "source": [
    "rr2 = np.array([['Claire',10], ['Paola', 6]]) # It doesn't have to be only 1 type\n",
    "print(rr2)"
   ]
  },
  {
   "cell_type": "code",
   "execution_count": null,
   "metadata": {},
   "outputs": [],
   "source": [
    "# Initialise to 0 or 1.\n",
    "rr = np.zeros((2,3),dtype=float)\n",
    "print(rr)\n",
    "rr1 = np.ones((2,4),dtype=np.int32)\n",
    "print(rr1)"
   ]
  },
  {
   "cell_type": "code",
   "execution_count": null,
   "metadata": {},
   "outputs": [],
   "source": [
    "# Same shape as an existing array. It's possible to choose the data-type with the dtype argument.\n",
    "rr2 = np.zeros_like(rr1)\n",
    "rr2"
   ]
  },
  {
   "cell_type": "code",
   "execution_count": null,
   "metadata": {},
   "outputs": [],
   "source": [
    "# Evenly spaced values\n",
    "rr2= np.arange(5,45,2)\n",
    "rr2"
   ]
  },
  {
   "cell_type": "code",
   "execution_count": null,
   "metadata": {},
   "outputs": [],
   "source": [
    "# Reshaping an existing array\n",
    "rr2 = rr2.reshape((5,2,2))\n",
    "rr2"
   ]
  },
  {
   "cell_type": "markdown",
   "metadata": {},
   "source": [
    "## Read data from file\n",
    "Do you remember the csv example from the last training? Here it is with numpy."
   ]
  },
  {
   "cell_type": "code",
   "execution_count": null,
   "metadata": {},
   "outputs": [],
   "source": [
    "li = np.loadtxt('test.txt',delimiter=',',skiprows=2)\n",
    "print(li)\n",
    "# For the third format example, simply take the transpose\n",
    "print(li.T)\n",
    "# You want the columns in separate arrays?\n",
    "c1,c2,c3 = np.loadtxt('test.txt', delimiter=',',skiprows=2,unpack=True)\n",
    "print(c1,c2,c3)"
   ]
  },
  {
   "cell_type": "markdown",
   "metadata": {},
   "source": [
    "## Indexing\n",
    "It is the same as for lists etc, except for the multi-dimensional part:"
   ]
  },
  {
   "cell_type": "code",
   "execution_count": null,
   "metadata": {},
   "outputs": [],
   "source": [
    "print(f\"First element {rr2[0,0]}\\n\")\n",
    "print(f\"First index of the second dimension \\n {rr2[:,0,:]}\\n\")\n",
    "print(f\"First 2 indexes along the 1st dimension and all other indexes along other dimensions\\n {rr2[:2,:,:]}\\n\")\n",
    "print(f\"Stride {rr2[0:5:2,0,1]}\\n\")"
   ]
  },
  {
   "cell_type": "markdown",
   "metadata": {},
   "source": [
    "There is a generic form to say \"all other indexes along all other dimensions\", i.e. \"everything else\", without specifying the number of dimensions in your array. It can be used to indicate all dimensions before or after the specified slice:"
   ]
  },
  {
   "cell_type": "code",
   "execution_count": null,
   "metadata": {},
   "outputs": [],
   "source": [
    "print(f\"Specify slices in all dimensions: \\n{rr2[:2,:,:]}\\n\")\n",
    "print(f\"Generic form:\\n{rr2[:2,...]}\\n\")\n",
    "print(f\"Any number of dimensions specified before:\\n{rr2[:2,0,...]}\\n\")\n",
    "print(f\"Works for the start of the array as well:\\n{rr2[...,0]}\\n\")"
   ]
  },
  {
   "cell_type": "markdown",
   "metadata": {},
   "source": [
    "## Matlab users\n",
    "In Matlab, arrays are matrices. That is not true in Python. This means in Matlab, the multiplication is the matrice multiplication, in Python that's multiplication element by element.\n",
    "This [page](https://docs.scipy.org/doc/numpy/user/numpy-for-matlab-users.html#numpy-for-matlab-users-notes) provides a long table of equivalents between Matlab and Python."
   ]
  },
  {
   "cell_type": "markdown",
   "metadata": {},
   "source": [
    "## Operations with arrays along some given axis\n",
    "Obviously, `numpy` has a lot of handy functions for common operations. For example if you want the mean of an array:"
   ]
  },
  {
   "cell_type": "code",
   "execution_count": null,
   "metadata": {},
   "outputs": [],
   "source": [
    "rr2.mean()"
   ]
  },
  {
   "cell_type": "markdown",
   "metadata": {},
   "source": [
    "That's handy, what is even more handy is the possibility to calculate the mean over a given dimension only. For example, rr2 is 3D. Let's say the dimensions are time, latitude and longitude respectively and you want to calculate the time average at each spatial point:"
   ]
  },
  {
   "cell_type": "code",
   "execution_count": null,
   "metadata": {},
   "outputs": [],
   "source": [
    "rr2.mean(axis=0)  # Remember indexes start at 0"
   ]
  },
  {
   "cell_type": "markdown",
   "metadata": {},
   "source": [
    "### Working with time\n",
    "There is already a lot out there. You probably won't need to develop much yourself.\n",
    "\n",
    "Numpy has a date data type: `datetime64`. Do not confuse `datetime64` from Numpy and `datetime` from Python! They do not have the same methods or abilities. Both can be useful.\n",
    "\n",
    "`datetime64` is relatively simple, it doesn't have a lot of built-in capabilities. When doing fancy date calculations in Python, the must is probably to work with `pandas`. `pandas` is built upon numpy so can readily convert `datetime64` to its own date and time objects. \n",
    "\n",
    "Note `xarray` and `pandas` are also very compatible with each other."
   ]
  },
  {
   "cell_type": "code",
   "execution_count": null,
   "metadata": {},
   "outputs": [],
   "source": [
    "print(np.datetime64('2020-04-15T05:00','ms'))\n",
    "print(np.datetime64('2020-04-10','M'))"
   ]
  },
  {
   "cell_type": "markdown",
   "metadata": {},
   "source": [
    "You can do simple calculations. For example, the number of days in February 2036:"
   ]
  },
  {
   "cell_type": "code",
   "execution_count": null,
   "metadata": {},
   "outputs": [],
   "source": [
    "print(np.datetime64('2036-03','D')-np.datetime64('2036-02','D'))"
   ]
  },
  {
   "cell_type": "markdown",
   "metadata": {},
   "source": [
    "Be careful of the unit:"
   ]
  },
  {
   "cell_type": "code",
   "execution_count": null,
   "metadata": {},
   "outputs": [],
   "source": [
    "print(np.datetime64('2036-03','M')-np.datetime64('2036-02','M'))"
   ]
  },
  {
   "cell_type": "markdown",
   "metadata": {},
   "source": [
    "It's possible to convert units. So if you want both the number of months and the number of days:"
   ]
  },
  {
   "cell_type": "code",
   "execution_count": null,
   "metadata": {},
   "outputs": [],
   "source": [
    "timeA = np.datetime64('1988-05','M')\n",
    "timeB = np.datetime64('1990-03','M')\n",
    "delta = timeB - timeA\n",
    "print(delta)\n",
    "deltaD = timeB.astype('datetime64[D]') - timeA.astype('datetime64[D]')\n",
    "print(deltaD)"
   ]
  },
  {
   "cell_type": "markdown",
   "metadata": {},
   "source": [
    "Note, `delta` and `deltaD` are not the strings printed out above. They are `numpy.timedelta64` objects. The `print()` function gives a pretty output because of the way the object has been developed."
   ]
  },
  {
   "cell_type": "code",
   "execution_count": null,
   "metadata": {},
   "outputs": [],
   "source": [
    "deltaD"
   ]
  },
  {
   "cell_type": "markdown",
   "metadata": {},
   "source": [
    "# Xarray \n",
    "Numpy is great but it is very generic. And it only gives you the raw data. The coder has to keep track of the additional information: is there a time dimension? What field does this data represent? etc.\n",
    "\n",
    "Xarray introduces labelled arrays which typically means you get self-described arrays: name of\n",
    "the field, name of dimensions, coordinates for the dimensions, etc.\n",
    "\n",
    "As such it works very well with the netCDF format since this is also a self-describing format."
   ]
  },
  {
   "cell_type": "code",
   "execution_count": null,
   "metadata": {},
   "outputs": [],
   "source": [
    "import xarray as xr"
   ]
  },
  {
   "cell_type": "markdown",
   "metadata": {},
   "source": [
    "### Reading in netcdf file"
   ]
  },
  {
   "cell_type": "code",
   "execution_count": null,
   "metadata": {},
   "outputs": [],
   "source": [
    "# open netcdf file\n",
    "ds = xr.open_dataset(\"http://dapds00.nci.org.au/thredds/dodsC/ua8/ARCCSS_Data-10/v1-0/A/A_ACCESS1-0_N48_mon_198001.nc\")\n",
    "# see how all the info is there\n",
    "ds\n",
    "# print just a variable to see the variable level attributes."
   ]
  },
  {
   "cell_type": "code",
   "execution_count": null,
   "metadata": {},
   "outputs": [],
   "source": [
    "# Variables are stored in the Dataset in a dictionary so you can refer to them by name\n",
    "rls = ds['rls']\n",
    "rls"
   ]
  },
  {
   "cell_type": "markdown",
   "metadata": {},
   "source": [
    "### Calculations using dimension names\n",
    "Just like numpy, arrays have common functions as methods. But unlike numpy, you can identify\n",
    "dimensions by name instead of index position.\n",
    "\n",
    "Xarray arrays work with most numpy functions. If not, you can access the underlying numpy array."
   ]
  },
  {
   "cell_type": "code",
   "execution_count": null,
   "metadata": {},
   "outputs": [],
   "source": [
    "print('Global mean\\n',rls.mean(),'\\n')\n",
    "print('Latitudinal mean\\n',rls.mean(dim='lat'))"
   ]
  },
  {
   "cell_type": "markdown",
   "metadata": {},
   "source": [
    "### Selection using coordinate values\n",
    "Remember how the variables have the dimension names and the coordinate arrays attached to them? This means you can select data using the coordinate names and values rather than indexes."
   ]
  },
  {
   "cell_type": "code",
   "execution_count": null,
   "metadata": {},
   "outputs": [],
   "source": [
    "rls.sel(lat=-85)"
   ]
  },
  {
   "cell_type": "markdown",
   "metadata": {},
   "source": [
    "Xarray can even interpolate for you. You don't have to know the exact values of the points that are in your array. For example you could ask for the nearest points to 100°E in longitude. I would not use this to actually interpolate a whole field! Just use it to save on typing or if you have a projected grid."
   ]
  },
  {
   "cell_type": "code",
   "execution_count": null,
   "metadata": {},
   "outputs": [],
   "source": [
    "rls.sel(lat=-87, method='nearest')"
   ]
  },
  {
   "cell_type": "markdown",
   "metadata": {},
   "source": [
    "### Quick plotting\n",
    "It is very easy to do a quick plot of your data. It isn't a plot ready for publication but it can easily allow you to visualise your fields. And the nice touch is Xarray will automatically use the meta-data to add labelling to the plot."
   ]
  },
  {
   "cell_type": "markdown",
   "metadata": {},
   "source": [
    "Before plotting with matplotlib in Jupyter Notebook, you need to add a special line so the plots appear in the notebook. This only to be done once per notebook, not for each plot."
   ]
  },
  {
   "cell_type": "code",
   "execution_count": null,
   "metadata": {},
   "outputs": [],
   "source": [
    "%matplotlib inline"
   ]
  },
  {
   "cell_type": "code",
   "execution_count": null,
   "metadata": {},
   "outputs": [],
   "source": [
    "rls.plot()"
   ]
  },
  {
   "cell_type": "markdown",
   "metadata": {},
   "source": [
    "Note we haven't loaded matplotlib, but because xarray uses it, it loads it for us."
   ]
  },
  {
   "cell_type": "markdown",
   "metadata": {},
   "source": [
    "### Save data to file\n",
    "There is a very simple way to save data back to a netcdf file. It isn't necessarily the fastest way. But you should only have to write out some analysed fields using Python which means relatively small amounts of data.\n",
    "\n",
    "Note, netcdf support inline compression so you should ALWAYS save your data compressed. Inline compression means the file just looks the same, access is the same, you don't need to uncompress before being able to see the information from the file."
   ]
  },
  {
   "cell_type": "code",
   "execution_count": null,
   "metadata": {},
   "outputs": [],
   "source": [
    "# Compression\n",
    "encod={}\n",
    "for var in ds.data_vars:   # data_vars stores the names of the variables in a dataset, as strings\n",
    "    encod[var]={'zlib':True}\n",
    "\n",
    "# Write to file\n",
    "ds.to_netcdf('test.nc',encoding=encod)"
   ]
  },
  {
   "cell_type": "markdown",
   "metadata": {},
   "source": [
    "### More info\n",
    "This was a very very quick presentation of `xarray`. We were simply trying to give you the very basics, especially highlights the philosophy of the package. We will run a `xarray` training soon. In the meantime if you want to know more, you can always run through [xarray quick overview](http://xarray.pydata.org/en/stable/quick-overview.html)\n",
    "\n",
    "In addition, the CMS team has a [blog](https://climate-cms.org/) with quite a few blogs using `xarray` and Python in general. Feel free to check those as well."
   ]
  },
  {
   "cell_type": "code",
   "execution_count": null,
   "metadata": {},
   "outputs": [],
   "source": []
  }
 ],
 "metadata": {
  "kernelspec": {
   "display_name": "Python 3",
   "language": "python",
   "name": "python3"
  },
  "language_info": {
   "codemirror_mode": {
    "name": "ipython",
    "version": 3
   },
   "file_extension": ".py",
   "mimetype": "text/x-python",
   "name": "python",
   "nbconvert_exporter": "python",
   "pygments_lexer": "ipython3",
   "version": "3.7.2"
  }
 },
 "nbformat": 4,
 "nbformat_minor": 2
}
