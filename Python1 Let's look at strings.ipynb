{
 "cells": [
  {
   "cell_type": "markdown",
   "metadata": {},
   "source": [
    "# Let's start with strings\n",
    "\n",
    "Here we assume you all know how to program. You don't need to learn what a loop or a variable is!\n",
    "\n",
    "We are starting with strings as this is a type common to most languages so you likely know what it is. But they also allow us to introduce lots of Python concepts!\n",
    "\n",
    "Using strings, we'll have a look at the following:\n",
    " - what object-oriented language means\n",
    " - the print() function and how to format a string\n",
    " - indexing\n",
    " - loops\n",
    " - if constructs"
   ]
  },
  {
   "cell_type": "code",
   "execution_count": 4,
   "metadata": {},
   "outputs": [],
   "source": [
    "a = \"Claire\""
   ]
  },
  {
   "cell_type": "code",
   "execution_count": 5,
   "metadata": {},
   "outputs": [
    {
     "data": {
      "text/plain": [
       "'Claire'"
      ]
     },
     "execution_count": 5,
     "metadata": {},
     "output_type": "execute_result"
    }
   ],
   "source": [
    "a  # Easy to get the value of a variable in a notebook"
   ]
  },
  {
   "cell_type": "code",
   "execution_count": 6,
   "metadata": {},
   "outputs": [
    {
     "data": {
      "text/plain": [
       "'Claire'"
      ]
     },
     "execution_count": 6,
     "metadata": {},
     "output_type": "execute_result"
    }
   ],
   "source": [
    "# Can be done in one cell:\n",
    "a = \"Claire\"\n",
    "a"
   ]
  },
  {
   "cell_type": "code",
   "execution_count": 7,
   "metadata": {},
   "outputs": [
    {
     "ename": "NameError",
     "evalue": "name 'A' is not defined",
     "output_type": "error",
     "traceback": [
      "\u001b[0;31m---------------------------------------------------------------------------\u001b[0m",
      "\u001b[0;31mNameError\u001b[0m                                 Traceback (most recent call last)",
      "\u001b[0;32m<ipython-input-7-62579e0dbc5d>\u001b[0m in \u001b[0;36m<module>\u001b[0;34m\u001b[0m\n\u001b[1;32m      1\u001b[0m \u001b[0;31m# Python is case sensitive\u001b[0m\u001b[0;34m\u001b[0m\u001b[0;34m\u001b[0m\u001b[0;34m\u001b[0m\u001b[0m\n\u001b[0;32m----> 2\u001b[0;31m \u001b[0mA\u001b[0m\u001b[0;34m\u001b[0m\u001b[0;34m\u001b[0m\u001b[0m\n\u001b[0m",
      "\u001b[0;31mNameError\u001b[0m: name 'A' is not defined"
     ]
    }
   ],
   "source": [
    "# Python is case sensitive\n",
    "A"
   ]
  },
  {
   "cell_type": "markdown",
   "metadata": {},
   "source": [
    "## Object-oriented language\n",
    "\n",
    "Everything is an object in Python. That means a variable contains more than a variable. It may also contains:\n",
    " - **functions, called methods**. These are specific to each object type. A string and an array won't have the same methods.\n",
    " - **attributes**. These are additional information about the object. Think of it a bit like meta-data. Attributes differ from methods because they simply contain a value and not a function."
   ]
  },
  {
   "cell_type": "code",
   "execution_count": null,
   "metadata": {},
   "outputs": [],
   "source": [
    "# Find out the type of an object\n",
    "?a"
   ]
  },
  {
   "cell_type": "code",
   "execution_count": null,
   "metadata": {},
   "outputs": [],
   "source": [
    "type(a)"
   ]
  },
  {
   "cell_type": "code",
   "execution_count": null,
   "metadata": {},
   "outputs": [],
   "source": [
    "# Find all attributes/methods of an object\n",
    "dir(a)"
   ]
  },
  {
   "cell_type": "markdown",
   "metadata": {},
   "source": [
    "It doesn't tell you if those are methods or simple attributes. There is no information on what the method does. Inline help can help here."
   ]
  },
  {
   "cell_type": "code",
   "execution_count": null,
   "metadata": {},
   "outputs": [],
   "source": []
  },
  {
   "cell_type": "markdown",
   "metadata": {},
   "source": [
    "# Print function"
   ]
  },
  {
   "cell_type": "markdown",
   "metadata": {},
   "source": [
    "Obviously, there is a `print()` function built-in. It can print out the values in all sorts of objects, not just strings."
   ]
  },
  {
   "cell_type": "code",
   "execution_count": null,
   "metadata": {},
   "outputs": [],
   "source": [
    "print(a)"
   ]
  },
  {
   "cell_type": "code",
   "execution_count": null,
   "metadata": {},
   "outputs": [],
   "source": [
    "# Print several variables together:\n",
    "print(\"My var is:\",a)"
   ]
  },
  {
   "cell_type": "code",
   "execution_count": null,
   "metadata": {},
   "outputs": [],
   "source": [
    "b = \"it's me\"\n",
    "print(a,\",\",b)"
   ]
  },
  {
   "cell_type": "markdown",
   "metadata": {},
   "source": [
    "## Indexing\n",
    "\n",
    "Strings are indexable in Python. Indexes start at 0 in Python. It's possible to have negative indexes, thus `-1` refers to the last element."
   ]
  },
  {
   "cell_type": "code",
   "execution_count": null,
   "metadata": {},
   "outputs": [],
   "source": [
    "a[1]"
   ]
  },
  {
   "cell_type": "code",
   "execution_count": null,
   "metadata": {},
   "outputs": [],
   "source": [
    "a[-1]"
   ]
  },
  {
   "cell_type": "code",
   "execution_count": null,
   "metadata": {},
   "outputs": [],
   "source": [
    "a[-3]"
   ]
  },
  {
   "cell_type": "markdown",
   "metadata": {},
   "source": [
    "### len() function"
   ]
  },
  {
   "cell_type": "markdown",
   "metadata": {},
   "source": [
    "This is a built-in function in Python. It returns the length of a whole bunch of objects. Be careful when using it with more complex objects as it might not return what you'd like as we'll see later"
   ]
  },
  {
   "cell_type": "code",
   "execution_count": null,
   "metadata": {},
   "outputs": [],
   "source": [
    "len(a)"
   ]
  },
  {
   "cell_type": "markdown",
   "metadata": {},
   "source": [
    "### Slicing"
   ]
  },
  {
   "cell_type": "code",
   "execution_count": 8,
   "metadata": {},
   "outputs": [
    {
     "name": "stdout",
     "output_type": "stream",
     "text": [
      "C\n",
      "Cla\n",
      "Cla\n",
      "ire\n",
      "Car\n",
      "Clair\n",
      "Clair\n",
      "Claire\n",
      "Cla\n"
     ]
    }
   ],
   "source": [
    "print(a[0:1]) # Last index isn't included. Same as a[0]\n",
    "print(a[0:3])\n",
    "print(a[:3]) # Start and end indexes can be omitted. This means everything from start to index 3-1\n",
    "print(a[3:]) # Means everything from index 3 to the end.\n",
    "print(a[::2]) # You can use a stride. It means from start to end, print every other character.\n",
    "print(a[0:-1]) # That's not the whole string!\n",
    "print(a[:-1]) # This neither\n",
    "print(a[0:len(a)]) # The whole string\n",
    "print(a[0:len(a)-3]) # You can obviously have expressions to define the indexes"
   ]
  },
  {
   "cell_type": "markdown",
   "metadata": {},
   "source": [
    "The slice `0:3` means, “Start at index 0 and go up to, but not including, index 3.” The up-to-but-not-including takes a bit of getting used to, but the rule is that the difference between the upper and lower bounds is the number of values in the slice.\n",
    "\n",
    "But it's nice as it avoids having a `-1` all the time. For example, to get the 3 first character, you use this slice `:3`. If the last index was including, you would need: `:3-1`. If you want 2 characters from the 2nd character, you do `2:2+2` and not `2:2+2-1`. Etc."
   ]
  },
  {
   "cell_type": "markdown",
   "metadata": {},
   "source": [
    "# Loops"
   ]
  },
  {
   "cell_type": "markdown",
   "metadata": {},
   "source": [
    "You can loop on any iterable! No just a range of numbers."
   ]
  },
  {
   "cell_type": "code",
   "execution_count": 9,
   "metadata": {},
   "outputs": [
    {
     "name": "stdout",
     "output_type": "stream",
     "text": [
      "C\n",
      "l\n",
      "a\n",
      "i\n",
      "r\n",
      "e\n"
     ]
    }
   ],
   "source": [
    "for char in a:\n",
    "    print(char)"
   ]
  },
  {
   "cell_type": "markdown",
   "metadata": {},
   "source": [
    "Note the syntax! `for`, `in`, `:`, indentation to define what is in the loop."
   ]
  },
  {
   "cell_type": "code",
   "execution_count": 10,
   "metadata": {},
   "outputs": [
    {
     "name": "stdout",
     "output_type": "stream",
     "text": [
      "Indentation = in the loop\n",
      "Still in\n",
      "Indentation = in the loop\n",
      "Still in\n",
      "Indentation = in the loop\n",
      "Still in\n",
      "Indentation = in the loop\n",
      "Still in\n",
      "Indentation = in the loop\n",
      "Still in\n",
      "Indentation = in the loop\n",
      "Still in\n",
      "This is outside the loop because less indented\n"
     ]
    }
   ],
   "source": [
    "for char in a:\n",
    "    print(\"Indentation = in the loop\")\n",
    "    print(\"Still in\")\n",
    "print(\"This is outside the loop because less indented\")"
   ]
  },
  {
   "cell_type": "code",
   "execution_count": 11,
   "metadata": {},
   "outputs": [
    {
     "ename": "IndentationError",
     "evalue": "unexpected indent (<ipython-input-11-e33d7e7bd96a>, line 4)",
     "output_type": "error",
     "traceback": [
      "\u001b[0;36m  File \u001b[0;32m\"<ipython-input-11-e33d7e7bd96a>\"\u001b[0;36m, line \u001b[0;32m4\u001b[0m\n\u001b[0;31m    print(\"OK?\")\u001b[0m\n\u001b[0m    ^\u001b[0m\n\u001b[0;31mIndentationError\u001b[0m\u001b[0;31m:\u001b[0m unexpected indent\n"
     ]
    }
   ],
   "source": [
    "# Different indentations = error\n",
    "for char in a:\n",
    "    print(\"Hey\")\n",
    "        print(\"OK?\")"
   ]
  },
  {
   "cell_type": "code",
   "execution_count": null,
   "metadata": {},
   "outputs": [],
   "source": []
  },
  {
   "cell_type": "markdown",
   "metadata": {},
   "source": [
    "### Loop over a range:"
   ]
  },
  {
   "cell_type": "code",
   "execution_count": 12,
   "metadata": {},
   "outputs": [
    {
     "name": "stdout",
     "output_type": "stream",
     "text": [
      "3\n",
      "5\n",
      "7\n",
      "9\n",
      "11\n",
      "13\n",
      "15\n"
     ]
    }
   ],
   "source": [
    "for i in range(3,17,2):   # End index is excluded here again! There is some consistency.\n",
    "    print(i)"
   ]
  },
  {
   "cell_type": "code",
   "execution_count": 13,
   "metadata": {},
   "outputs": [
    {
     "name": "stdout",
     "output_type": "stream",
     "text": [
      "0\n",
      "1\n",
      "2\n",
      "3\n",
      "4\n"
     ]
    }
   ],
   "source": [
    "for i in range(5):\n",
    "    print(i)"
   ]
  },
  {
   "cell_type": "code",
   "execution_count": 14,
   "metadata": {},
   "outputs": [
    {
     "name": "stdout",
     "output_type": "stream",
     "text": [
      "C\n",
      "l\n",
      "a\n",
      "Index: 0\n",
      "C\n",
      "l\n",
      "a\n",
      "Index: 1\n"
     ]
    }
   ],
   "source": [
    "# Nested loop\n",
    "for i in range(2):\n",
    "    for char in a[:3]:\n",
    "        print(char)\n",
    "    print(\"Index:\",i)  # In outer loop but not inner loop"
   ]
  },
  {
   "cell_type": "code",
   "execution_count": 16,
   "metadata": {},
   "outputs": [
    {
     "data": {
      "text/plain": [
       "6"
      ]
     },
     "execution_count": 16,
     "metadata": {},
     "output_type": "execute_result"
    }
   ],
   "source": [
    "# Break / continue statements\n",
    "for i in range(10):\n",
    "    if i == len(a):\n",
    "        break\n",
    "i"
   ]
  },
  {
   "cell_type": "markdown",
   "metadata": {},
   "source": [
    "There is also a `while` construct, which you can discover on your own. It has a similar syntax as the `for` loop construct."
   ]
  },
  {
   "cell_type": "markdown",
   "metadata": {},
   "source": [
    "## If constructs"
   ]
  },
  {
   "cell_type": "code",
   "execution_count": 63,
   "metadata": {},
   "outputs": [
    {
     "name": "stdout",
     "output_type": "stream",
     "text": [
      "Yeah\n"
     ]
    }
   ],
   "source": [
    "if \"l\" in a:\n",
    "    print(\"Yeah\")"
   ]
  },
  {
   "cell_type": "code",
   "execution_count": 64,
   "metadata": {},
   "outputs": [
    {
     "name": "stdout",
     "output_type": "stream",
     "text": [
      "Yeah\n"
     ]
    }
   ],
   "source": [
    "if \"Claire\" == a:\n",
    "    print(\"Yeah\")"
   ]
  },
  {
   "cell_type": "code",
   "execution_count": 73,
   "metadata": {},
   "outputs": [
    {
     "name": "stdout",
     "output_type": "stream",
     "text": [
      "yeah\n"
     ]
    }
   ],
   "source": [
    "# Negation\n",
    "if \"Claire\" != a:\n",
    "    print(\"yeah\")\n",
    "\n",
    "if not \"z\" in a:\n",
    "    print(\"yeah\")"
   ]
  },
  {
   "cell_type": "code",
   "execution_count": 74,
   "metadata": {},
   "outputs": [
    {
     "name": "stdout",
     "output_type": "stream",
     "text": [
      "yeah\n"
     ]
    }
   ],
   "source": [
    "# and / or\n",
    "if not \"z\" in a and \"l\" in a:\n",
    "    print(\"yeah\")"
   ]
  },
  {
   "cell_type": "markdown",
   "metadata": {},
   "source": [
    "### any() and all() functions\n",
    "\n",
    "Python has `any()` and `all()` functions as built-in. \n",
    "\n",
    "`any(x)` returns true if at least 1 value in x is True, \n",
    "`all(x)` returns true if all values in x are True or x is null.\n",
    "\n",
    "In Python, 0, False, \"\" and None are False. Everything else is True"
   ]
  },
  {
   "cell_type": "code",
   "execution_count": 75,
   "metadata": {},
   "outputs": [
    {
     "data": {
      "text/plain": [
       "True"
      ]
     },
     "execution_count": 75,
     "metadata": {},
     "output_type": "execute_result"
    }
   ],
   "source": [
    "all(a)"
   ]
  },
  {
   "cell_type": "code",
   "execution_count": 2,
   "metadata": {},
   "outputs": [
    {
     "name": "stdout",
     "output_type": "stream",
     "text": [
      "True False\n"
     ]
    }
   ],
   "source": [
    "b=\"\"\n",
    "print(all(b), any(b))"
   ]
  },
  {
   "cell_type": "code",
   "execution_count": null,
   "metadata": {},
   "outputs": [],
   "source": []
  }
 ],
 "metadata": {
  "kernelspec": {
   "display_name": "Python 3",
   "language": "python",
   "name": "python3"
  },
  "language_info": {
   "codemirror_mode": {
    "name": "ipython",
    "version": 3
   },
   "file_extension": ".py",
   "mimetype": "text/x-python",
   "name": "python",
   "nbconvert_exporter": "python",
   "pygments_lexer": "ipython3",
   "version": "3.7.2"
  }
 },
 "nbformat": 4,
 "nbformat_minor": 2
}
