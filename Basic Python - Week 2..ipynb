{
 "cells": [
  {
   "cell_type": "markdown",
   "metadata": {},
   "source": [
    "# Functions\n",
    "\n",
    "## Definition"
   ]
  },
  {
   "cell_type": "code",
   "execution_count": 57,
   "metadata": {},
   "outputs": [],
   "source": [
    "def my_function(arg1, arg2):\n",
    "    '''Here I can say what my function does.\n",
    "    I can use several lines\n",
    "    arg1: It is a good idea to define the arguments as well\n",
    "    arg2: Another one'''\n",
    "    \n",
    "    print(f'I am going to add {arg1} and {arg2} together')\n",
    "    total = arg1 + arg2\n",
    "    return total"
   ]
  },
  {
   "cell_type": "code",
   "execution_count": 62,
   "metadata": {},
   "outputs": [
    {
     "name": "stdout",
     "output_type": "stream",
     "text": [
      "I am going to add 1 and 2 together\n",
      "3\n"
     ]
    }
   ],
   "source": [
    "add=my_function(1,2)\n",
    "print(add)"
   ]
  },
  {
   "cell_type": "markdown",
   "metadata": {},
   "source": [
    "## Type of arguments"
   ]
  },
  {
   "cell_type": "markdown",
   "metadata": {},
   "source": [
    "You can specify arguments in different ways. You can have required and optional arguments, you can give arguments by position (like above) or by name."
   ]
  },
  {
   "cell_type": "code",
   "execution_count": 64,
   "metadata": {},
   "outputs": [
    {
     "name": "stdout",
     "output_type": "stream",
     "text": [
      "I am going to add 2 and 1 together\n",
      "3\n"
     ]
    }
   ],
   "source": [
    "# Give arguments per name (keyword argument)\n",
    "add=my_function(arg2=1, arg1=2)\n",
    "print(add)\n",
    "\n",
    "# This is illegal. Positional arguments need to be first listed.\n",
    "#add=my_function(arg2=1,2)"
   ]
  },
  {
   "cell_type": "code",
   "execution_count": 75,
   "metadata": {},
   "outputs": [
    {
     "name": "stdout",
     "output_type": "stream",
     "text": [
      "1\n",
      "5\n"
     ]
    }
   ],
   "source": [
    "# Optional arguments:\n",
    "def my_function(arg1, opt=None):\n",
    "    if opt:\n",
    "        return(arg1+opt)\n",
    "    else:\n",
    "        return(arg1)\n",
    "    \n",
    "print(my_function(1))\n",
    "print(my_function(1,4))"
   ]
  },
  {
   "cell_type": "code",
   "execution_count": 76,
   "metadata": {},
   "outputs": [
    {
     "name": "stdout",
     "output_type": "stream",
     "text": [
      "6\n",
      "7\n"
     ]
    }
   ],
   "source": [
    "# Optional arguments can also be used to define default values instead of nothing:\n",
    "def add_5_or(arg1, opt=5):\n",
    "    return(arg1+opt)\n",
    "\n",
    "print(add_5_or(1))\n",
    "print(add_5_or(1,6))"
   ]
  },
  {
   "cell_type": "code",
   "execution_count": 77,
   "metadata": {},
   "outputs": [
    {
     "name": "stdout",
     "output_type": "stream",
     "text": [
      "5\n",
      "5\n"
     ]
    }
   ],
   "source": [
    "# Use lists/tuples or dictionaries to specify arguments\n",
    "t=(1,4)\n",
    "print(add_5_or(*t))\n",
    "\n",
    "dic={'arg1':1, 'opt':4}\n",
    "print(add_5_or(**dic))"
   ]
  },
  {
   "cell_type": "markdown",
   "metadata": {},
   "source": [
    "If you remember, we saw the `**` operator last week with the `str.format()` method. It's exactly the same as here. \n",
    "\n",
    "Specifying arguments via a dictionary can be useful for specifying options for plot routines. When tailoring plots, one usually ends up using a lot of options. Defining a dictionary for those can allow for a more readable code and for easier reuse of the options between plots."
   ]
  },
  {
   "cell_type": "markdown",
   "metadata": {},
   "source": [
    "## Global vs local scope\n",
    "Variables defined in function are local, unknown from the outside of the function.\n",
    "\n",
    "Run the following code. Do you understand what is going on?\n",
    "\n",
    "<div class=\"accordion\" id=\"accordion\">\n",
    "  <div class=\"card\">\n",
    "    <div class=\"card-header\" id=\"headingOne\">\n",
    "      <h5 class=\"mb-0\">\n",
    "        <button class=\"btn btn-link\" type=\"button\" data-toggle=\"collapse\" data-target=\"#expl2\" aria-expanded=\"true\" aria-controls=\"expl2\">\n",
    "          Answer\n",
    "        </button>\n",
    "      </h5>\n",
    "    </div>\n",
    "  <div>\n",
    "    <div id=\"expl2\" class=\"collapse\" aria-labelledby=\"headingOne\" data-parent=\"#accordion\">\n",
    "      <div class=\"card-body\">\n",
    "          <p>The function defines a local object called total. This object only exists within the function. It is independent from the object define outside the function. `total` defined outside the function is in global scope. This means it can be used throughout the body program including the functions body. </p>\n",
    "          <p>If you define a local variable with the same name as a global variable in a function, you can not use the global variable in that function.</p>\n",
    "      </div>\n",
    "    </div>\n",
    "  </div>\n",
    "</div>"
   ]
  },
  {
   "cell_type": "code",
   "execution_count": 82,
   "metadata": {},
   "outputs": [
    {
     "name": "stdout",
     "output_type": "stream",
     "text": [
      "After the function: 0\n",
      "9\n"
     ]
    }
   ],
   "source": [
    "total=0\n",
    "def summing(arg1, arg2):\n",
    "    total = arg1+arg2\n",
    "    return total\n",
    "\n",
    "add = summing(1,2)\n",
    "print(\"After the function:\", total)\n",
    "\n",
    "total=2\n",
    "def sum2(arg1, arg2):\n",
    "    tt = arg1+arg2+total\n",
    "    return tt\n",
    "add = sum2(3,4)\n",
    "print(add)"
   ]
  },
  {
   "cell_type": "markdown",
   "metadata": {},
   "source": [
    "## Pass by Reference vs Value\n",
    "Python passes arguments per reference. That means they still point to the same location in memory outside and within a function.\n",
    "\n",
    "Do you understand what is going on in the following example?\n",
    "\n",
    "<div class=\"accordion\" id=\"accordion\">\n",
    "  <div class=\"card\">\n",
    "    <div class=\"card-header\" id=\"headingOne\">\n",
    "      <h5 class=\"mb-0\">\n",
    "        <button class=\"btn btn-link\" type=\"button\" data-toggle=\"collapse\" data-target=\"#expl3\" aria-expanded=\"true\" aria-controls=\"expl3\">\n",
    "          Explanation\n",
    "        </button>\n",
    "      </h5>\n",
    "    </div>\n",
    "  <div>\n",
    "    <div id=\"expl3\" class=\"collapse\" aria-labelledby=\"headingOne\" data-parent=\"#accordion\">\n",
    "      <div class=\"card-body\">\n",
    "          <p>In changeme(), since li is a global object, it's values get modified despite the function not returning anything. </p>\n",
    "          <p>In changeme2(), li becomes a local variable. The function completely forgets about the argument.</p>\n",
    "          <p>Note the behaviour would be the same without passing li as an argument since li is a global object.</p>\n",
    "          <p>What would happen if li was a tuple instead of a list?</p>\n",
    "      </div>\n",
    "    </div>\n",
    "  </div>\n",
    "</div>"
   ]
  },
  {
   "cell_type": "code",
   "execution_count": 88,
   "metadata": {},
   "outputs": [
    {
     "name": "stdout",
     "output_type": "stream",
     "text": [
      "List at the start: [1, 2]\n",
      "List after changeme: [3, 2]\n",
      "List after changeme2: [3, 2]\n"
     ]
    }
   ],
   "source": [
    "def changeme(li):\n",
    "    li[0] = 3\n",
    "    return\n",
    "\n",
    "def changeme2(li):\n",
    "    li = [5,4]\n",
    "    return\n",
    "\n",
    "li=[1,2]\n",
    "print(f\"List at the start: {li}\")\n",
    "\n",
    "changeme(li)\n",
    "print(f\"List after changeme: {li}\")\n",
    "\n",
    "changeme2(li)\n",
    "print(f\"List after changeme2: {li}\")"
   ]
  },
  {
   "cell_type": "markdown",
   "metadata": {},
   "source": [
    "---"
   ]
  },
  {
   "cell_type": "markdown",
   "metadata": {},
   "source": [
    "# Read in files, Write to files"
   ]
  },
  {
   "cell_type": "markdown",
   "metadata": {},
   "source": [
    "### Open and close files"
   ]
  },
  {
   "cell_type": "markdown",
   "metadata": {},
   "source": [
    "To open a text file, there is the `open()` function. It accepts 2 arguments: name of the file and the opening mode for the file.\n",
    "\n",
    "| Modes | Meaning |\n",
    "|:------:|--------|\n",
    "| r   | read-only mode |\n",
    "| w   | write-only mode |\n",
    "| a   | append to existing file |\n",
    "| r+  | read and write mode |\n",
    "\n",
    "To read in data, there are 3 methods: `read()`, `readline()`, `readlines()`. The only difference is the amount of data they read from the file. `read()` will only read the given number of charaters (or whole file), `readline()` reads the file line by line, `readlines()` reads in the entire file or a maximum number of bytes/characters.\n",
    "\n",
    "To close a file, use the `close()` method."
   ]
  },
  {
   "cell_type": "markdown",
   "metadata": {},
   "source": [
    "### Read from file"
   ]
  },
  {
   "cell_type": "code",
   "execution_count": 9,
   "metadata": {},
   "outputs": [],
   "source": [
    "# f.seek(0) allows to rewind the file to the start of the file after each read.\n",
    "# Check what each output looks like. What is the difference between `f.read()` and `f.readlines()`?\n",
    "f = open('test.txt','r')\n",
    "whole_file = f.read()\n",
    "f.seek(0)\n",
    "first_line = f.readline()\n",
    "f.seek(0)\n",
    "whole2 = f.readlines()\n",
    "f.close()"
   ]
  },
  {
   "cell_type": "markdown",
   "metadata": {},
   "source": [
    "### Write to file"
   ]
  },
  {
   "cell_type": "markdown",
   "metadata": {},
   "source": [
    "Writing to a file is pretty symetrical to reading it in:"
   ]
  },
  {
   "cell_type": "code",
   "execution_count": 89,
   "metadata": {},
   "outputs": [],
   "source": [
    "f = open('my_file.txt','w')\n",
    "f.write('Hello!')\n",
    "lines=['Other line', 'One more']\n",
    "f.writelines(lines)\n",
    "f.close()"
   ]
  },
  {
   "cell_type": "markdown",
   "metadata": {},
   "source": [
    "Hmm, something went wrong. Python needs you to specify those are separate lines by adding a newline symbol: `\\n`"
   ]
  },
  {
   "cell_type": "code",
   "execution_count": 90,
   "metadata": {},
   "outputs": [],
   "source": [
    "f = open('my_file.txt','w')\n",
    "f.write('Hello!\\n')\n",
    "lines=['Other line\\n', 'One more\\n']\n",
    "f.writelines(lines)\n",
    "f.close()"
   ]
  },
  {
   "cell_type": "markdown",
   "metadata": {},
   "source": [
    "### With statement"
   ]
  },
  {
   "cell_type": "markdown",
   "metadata": {},
   "source": [
    "It is also possible to use the `with` statement to work with files. This is commonly used as it provides better error handling and closes the file for you."
   ]
  },
  {
   "cell_type": "code",
   "execution_count": 11,
   "metadata": {},
   "outputs": [
    {
     "name": "stdout",
     "output_type": "stream",
     "text": [
      "This is an example text file.\n",
      "\n"
     ]
    },
    {
     "ename": "ValueError",
     "evalue": "I/O operation on closed file.",
     "output_type": "error",
     "traceback": [
      "\u001b[0;31m---------------------------------------------------------------------------\u001b[0m",
      "\u001b[0;31mValueError\u001b[0m                                Traceback (most recent call last)",
      "\u001b[0;32m<ipython-input-11-cd3d5c2f217c>\u001b[0m in \u001b[0;36m<module>\u001b[0;34m\u001b[0m\n\u001b[1;32m      2\u001b[0m     \u001b[0mfirst_line\u001b[0m \u001b[0;34m=\u001b[0m \u001b[0mf\u001b[0m\u001b[0;34m.\u001b[0m\u001b[0mreadline\u001b[0m\u001b[0;34m(\u001b[0m\u001b[0;34m)\u001b[0m\u001b[0;34m\u001b[0m\u001b[0;34m\u001b[0m\u001b[0m\n\u001b[1;32m      3\u001b[0m \u001b[0mprint\u001b[0m\u001b[0;34m(\u001b[0m\u001b[0mfirst_line\u001b[0m\u001b[0;34m)\u001b[0m\u001b[0;34m\u001b[0m\u001b[0;34m\u001b[0m\u001b[0m\n\u001b[0;32m----> 4\u001b[0;31m \u001b[0msecond_line\u001b[0m \u001b[0;34m=\u001b[0m \u001b[0mf\u001b[0m\u001b[0;34m.\u001b[0m\u001b[0mreadline\u001b[0m\u001b[0;34m(\u001b[0m\u001b[0;34m)\u001b[0m\u001b[0;34m\u001b[0m\u001b[0;34m\u001b[0m\u001b[0m\n\u001b[0m\u001b[1;32m      5\u001b[0m \u001b[0mprint\u001b[0m\u001b[0;34m(\u001b[0m\u001b[0msecond_line\u001b[0m\u001b[0;34m)\u001b[0m\u001b[0;34m\u001b[0m\u001b[0;34m\u001b[0m\u001b[0m\n",
      "\u001b[0;31mValueError\u001b[0m: I/O operation on closed file."
     ]
    }
   ],
   "source": [
    "with open('test.txt','r') as f:\n",
    "    first_line = f.readline()\n",
    "\n",
    "print(first_line)\n",
    "second_line = f.readline()\n",
    "print(second_line)"
   ]
  },
  {
   "cell_type": "markdown",
   "metadata": {},
   "source": [
    "### Exercise\n",
    "Create a list of the numerical tabular values in test.txt. Make sure the values are of a numeric type (hint: check the Python builtin functions [here](https://docs.python.org/3/library/functions.html#built-in-functions)).\n",
    "\n",
    "Format the list as you wish:\n",
    "\n",
    "`[50,30,40,70,20,30]`\n",
    "\n",
    "`[[50,30,40],[70,20,30]]`\n",
    "\n",
    "`[[50,70],[30,20],[40,30]]`\n",
    "\n",
    "<div class=\"accordion\" id=\"accordion\">\n",
    "  <div class=\"card\">\n",
    "    <div class=\"card-header\" id=\"headingOne\">\n",
    "      <h5 class=\"mb-0\">\n",
    "        <button class=\"btn btn-link\" type=\"button\" data-toggle=\"collapse\" data-target=\"#collapse1\" aria-expanded=\"true\" aria-controls=\"collapse1\">\n",
    "          Answer\n",
    "        </button>\n",
    "      </h5>\n",
    "    </div>\n",
    "  <div>\n",
    "    <div id=\"collapse1\" class=\"collapse\" aria-labelledby=\"headingOne\" data-parent=\"#accordion\">\n",
    "      <div class=\"card-body\">\n",
    "<pre><code>\n",
    "with open('test.txt','r') as f:\n",
    "    # skip the header\n",
    "    head_length=2 # number of lines in the reader\n",
    "    for i in range(head_length):\n",
    "        f.readline()\n",
    "    \n",
    "    # Create a list to store the data\n",
    "    li = []\n",
    "    li2 = []\n",
    "    li3 = []\n",
    "    # Read each line and parse as needed.\n",
    "    for line in f.readlines():\n",
    "        tt = line.split(',')\n",
    "        tmp = [int(numb) for numb in tt]\n",
    "        li.extend(tmp)\n",
    "        li2.append(tmp)\n",
    "        if li3 == []:\n",
    "            li3=[[n] for n in tmp]\n",
    "        else:\n",
    "            for ind in range(len(tmp)):\n",
    "                li3[ind].append(tmp[ind])\n",
    "</code></pre>\n",
    "      </div>\n",
    "    </div>\n",
    "  </div>\n",
    "</div>\n"
   ]
  },
  {
   "cell_type": "code",
   "execution_count": null,
   "metadata": {},
   "outputs": [],
   "source": []
  },
  {
   "cell_type": "markdown",
   "metadata": {},
   "source": [
    "--------\n",
    "# Additional packages"
   ]
  },
  {
   "cell_type": "markdown",
   "metadata": {},
   "source": [
    "When you start Python very little gets loaded by default. This is to ensure a quick start of the interpreter and a lower memory usage. Obviously, you will need more than the default.\n",
    "\n",
    "Additionally, Python is open-sourced and as such lots of additional packages have been contributed over the years. These packages need to be installed before being able to use them.\n",
    "\n",
    "There are several ways to install packages. A simple one for individuals is Anaconda or Miniconda. That is what you used to prepare for this training (remember the instructions sent before the first training?). One advantage is that it handles dependencies on other packages and non-Python libraries for you. One disadvantage is that not all packages are shared via conda. It also creates a lot of files, which is not good for NCI.\n",
    "\n",
    "For working at NCI, the CMS maintain several Python environments to avoid duplications. These are quite extensive and we are open to installing more packages (as long as they are compatible with the existing environment). Please try those environments before installing your own. They are publicly opened, so not just for the Centre's folk.\n",
    "\n",
    "```\n",
    "module use /g/data/hh5/public/modules\n",
    "module load conda\n",
    "```\n",
    "\n",
    "This will load the stable environment for Python 3, which is most likely the one you want to use. A list of the packages under this environment can be found with: `conda list`"
   ]
  },
  {
   "cell_type": "markdown",
   "metadata": {},
   "source": [
    "### Load packages for use in your scripts or notebooks\n",
    "You can load new packages at any point in your script. It's usually done at the top but it doesn't have to."
   ]
  },
  {
   "cell_type": "code",
   "execution_count": 3,
   "metadata": {},
   "outputs": [],
   "source": [
    "import numpy    # Most basic form. Imports the whole package\n",
    "import numpy as np   # Imports the whole package but give an alias to save on typing in your code\n",
    "from matplotlib import pyplot as plt   # Import just one part of the package.\n",
    "import matplotlib.pyplot as plt   # Does the same as above."
   ]
  },
  {
   "cell_type": "code",
   "execution_count": 4,
   "metadata": {},
   "outputs": [
    {
     "data": {
      "text/plain": [
       "array([ 0,  1,  2,  3,  4,  5,  6,  7,  8,  9, 10, 11, 12, 13, 14, 15, 16,\n",
       "       17, 18, 19])"
      ]
     },
     "execution_count": 4,
     "metadata": {},
     "output_type": "execute_result"
    }
   ],
   "source": [
    "# To use a package:\n",
    "a = np.arange(20)\n",
    "a"
   ]
  },
  {
   "cell_type": "markdown",
   "metadata": {},
   "source": [
    "### Some useful packages\n",
    "\n",
    "From basic Python install:\n",
    " - <span style='color:orangered'>os</span>: operating system, e.g. environment variables, working directory, change permissions on files and directories.\n",
    " - <span style='color:orangered'>os.path</span>: pathname manipulations, e.g. separate or join basename and file name, check file existence.\n",
    " - <span style='color:orangered'>shutil</span>: file operations, e.g. copy, move, delete files\n",
    " - <span style='color:orangered'>glob</span>: pathname pattern expansion, e.g. list of files matching: './[0-9].*'\n",
    " - <span style='color:orangered'>argparse</span>: parser for command-line options.\n",
    " - <span style='color:orangered'>subprocess</span>: to run a separate program.\n",
    " \n",
    "Additional packages:\n",
    " - <span style='color:orangered'>numpy</span>: arrays in Python\n",
    " - <span style='color:orangered'>scipy</span>: more maths functions (FFT, ODE, linear algebra, interpolation etc.)\n",
    " - <span style='color:orangered'>pandas</span>: the ultimate to work with time series\n",
    " - <span style='color:orangered'>xarray</span>: better arrays in Python (labelled arrays)\n",
    " - <span style='color:orangered'>matplotlib</span>: plotting in Python\n",
    " - <span style='color:orangered'>cartopy</span>: map projection and plotting in Python\n",
    " - <span style='color:orangered'>dask</span>: parallelisation "
   ]
  },
  {
   "cell_type": "markdown",
   "metadata": {},
   "source": [
    "----\n",
    "# Numpy and arrays"
   ]
  },
  {
   "cell_type": "markdown",
   "metadata": {},
   "source": [
    "### Create an array\n",
    "There are plenty of ways to do so depending on what you want. The low-level function is `np.ndarray()` which you probably won't use much. But the [webpage](https://docs.scipy.org/doc/numpy/reference/generated/numpy.ndarray.html) for this function is interesting as it lists all attributes and methods associated with numpy arrays!"
   ]
  },
  {
   "cell_type": "code",
   "execution_count": 11,
   "metadata": {},
   "outputs": [
    {
     "data": {
      "text/plain": [
       "array([[[-2.00000000e+000,  2.00389627e+000,  7.90505033e-323],\n",
       "        [ 0.00000000e+000,  7.71515278e+199,  5.02034658e+175],\n",
       "        [ 4.76786488e-038,  2.77197457e-057,  5.05464895e-038],\n",
       "        [ 2.34303564e-056,  1.47763641e+248,  1.16096346e-028]],\n",
       "\n",
       "       [[ 7.69165785e+218,  1.35617292e+248,  1.62602156e+185],\n",
       "        [ 8.38994136e+165,  7.11405995e-038,  7.12195893e-067],\n",
       "        [ 4.25850026e-096,  6.32299154e+233,  6.48224638e+170],\n",
       "        [ 5.22411352e+257,  5.74020278e+180,  8.37174974e-144]]])"
      ]
     },
     "execution_count": 11,
     "metadata": {},
     "output_type": "execute_result"
    }
   ],
   "source": [
    "# Low-level \n",
    "rr = np.ndarray(shape=(2,4,3),dtype=float)\n",
    "rr"
   ]
  },
  {
   "cell_type": "code",
   "execution_count": 15,
   "metadata": {},
   "outputs": [
    {
     "name": "stdout",
     "output_type": "stream",
     "text": [
      "[[3. 4.]\n",
      " [5. 6.]]\n",
      "[['Claire' 'Paola']\n",
      " ['Scott' 'Danny']]\n",
      "[['Claire' '10']\n",
      " ['Paola' '6']]\n"
     ]
    }
   ],
   "source": [
    "# From list or tuple\n",
    "rr = np.array([[3.,4.],[5.,6.]])\n",
    "print(rr)\n",
    "rr1 = np.array([['Claire','Paola'],['Scott','Danny']])  # It doesn't have to be a numerical type  \n",
    "print(rr1)\n",
    "rr2 = np.array([['Claire',10], ['Paola', 6]]) # It doesn't have to be only 1 type\n",
    "print(rr2)"
   ]
  },
  {
   "cell_type": "code",
   "execution_count": 17,
   "metadata": {},
   "outputs": [
    {
     "name": "stdout",
     "output_type": "stream",
     "text": [
      "[[0. 0. 0.]\n",
      " [0. 0. 0.]]\n",
      "[[1. 1. 1. 1.]\n",
      " [1. 1. 1. 1.]]\n"
     ]
    }
   ],
   "source": [
    "# Initialise to 0 or 1.\n",
    "rr = np.zeros((2,3),dtype=float)\n",
    "print(rr)\n",
    "rr1 = np.ones((2,4))\n",
    "print(rr1)"
   ]
  },
  {
   "cell_type": "code",
   "execution_count": 18,
   "metadata": {},
   "outputs": [
    {
     "data": {
      "text/plain": [
       "array([[0., 0., 0., 0.],\n",
       "       [0., 0., 0., 0.]])"
      ]
     },
     "execution_count": 18,
     "metadata": {},
     "output_type": "execute_result"
    }
   ],
   "source": [
    "# Same shape as an existing array\n",
    "rr2 = np.zeros_like(rr1)\n",
    "rr2"
   ]
  },
  {
   "cell_type": "code",
   "execution_count": 19,
   "metadata": {},
   "outputs": [
    {
     "data": {
      "text/plain": [
       "array([ 5,  7,  9, 11, 13, 15, 17, 19, 21, 23, 25, 27, 29, 31, 33, 35, 37,\n",
       "       39, 41, 43])"
      ]
     },
     "execution_count": 19,
     "metadata": {},
     "output_type": "execute_result"
    }
   ],
   "source": [
    "# Evenly spaced values\n",
    "rr2= np.arange(5,45,2)\n",
    "rr2"
   ]
  },
  {
   "cell_type": "code",
   "execution_count": 21,
   "metadata": {},
   "outputs": [
    {
     "data": {
      "text/plain": [
       "array([[[ 5,  7],\n",
       "        [ 9, 11]],\n",
       "\n",
       "       [[13, 15],\n",
       "        [17, 19]],\n",
       "\n",
       "       [[21, 23],\n",
       "        [25, 27]],\n",
       "\n",
       "       [[29, 31],\n",
       "        [33, 35]],\n",
       "\n",
       "       [[37, 39],\n",
       "        [41, 43]]])"
      ]
     },
     "execution_count": 21,
     "metadata": {},
     "output_type": "execute_result"
    }
   ],
   "source": [
    "# Reshaping an existing array\n",
    "rr2 = rr2.reshape((5,2,2))\n",
    "rr2"
   ]
  },
  {
   "cell_type": "markdown",
   "metadata": {},
   "source": [
    "### Read data from file\n",
    "Do you remember the csv example above? Here it is with numpy."
   ]
  },
  {
   "cell_type": "code",
   "execution_count": 40,
   "metadata": {},
   "outputs": [
    {
     "name": "stdout",
     "output_type": "stream",
     "text": [
      "[[50. 30. 40.]\n",
      " [70. 20. 30.]]\n",
      "[[50. 70.]\n",
      " [30. 20.]\n",
      " [40. 30.]]\n",
      "[50. 70.] [30. 20.] [40. 30.]\n"
     ]
    }
   ],
   "source": [
    "li = np.loadtxt('test.txt',delimiter=',',skiprows=2)\n",
    "print(li)\n",
    "# For the third format example, simply take the transpose\n",
    "print(li.T)\n",
    "# You want the columns in separate arrays?\n",
    "c1,c2,c3 = np.loadtxt('test.txt', delimiter=',',skiprows=2,unpack=True)\n",
    "print(c1,c2,c3)"
   ]
  },
  {
   "cell_type": "markdown",
   "metadata": {},
   "source": [
    "## Indexing\n",
    "It is the same as for lists etc, except for the multi-dimensional part:"
   ]
  },
  {
   "cell_type": "code",
   "execution_count": 28,
   "metadata": {},
   "outputs": [
    {
     "name": "stdout",
     "output_type": "stream",
     "text": [
      "First element [5 7]\n",
      "\n",
      "First index of the second dimension \n",
      " [[ 5  7]\n",
      " [13 15]\n",
      " [21 23]\n",
      " [29 31]\n",
      " [37 39]]\n",
      "\n",
      "First 2 indexes along the 1st dimension and all other indexes along other dimensions\n",
      " [[[ 5  7]\n",
      "  [ 9 11]]\n",
      "\n",
      " [[13 15]\n",
      "  [17 19]]]\n",
      "\n",
      "Generic form to say 'all other indexes along all other dimensions'\n",
      " [[[ 5  7]\n",
      "  [ 9 11]]\n",
      "\n",
      " [[13 15]\n",
      "  [17 19]]]\n",
      "\n",
      "Stride [ 7 23 39]\n",
      "\n"
     ]
    }
   ],
   "source": [
    "print(f\"First element {rr2[0,0]}\\n\")\n",
    "print(f\"First index of the second dimension \\n {rr2[:,0,:]}\\n\")\n",
    "print(f\"First 2 indexes along the 1st dimension and all other indexes along other dimensions\\n {rr2[:2,:,:]}\\n\")\n",
    "print(f\"Stride {rr2[0:5:2,0,1]}\\n\")"
   ]
  },
  {
   "cell_type": "markdown",
   "metadata": {},
   "source": [
    "There is a generic form to say \"all other indexes along all other dimensions\" without specifying the number of dimensions in your array. It can be used to indicate all dimensions before or after the specified slice:"
   ]
  },
  {
   "cell_type": "code",
   "execution_count": 30,
   "metadata": {},
   "outputs": [
    {
     "name": "stdout",
     "output_type": "stream",
     "text": [
      "Specify slices in all dimensions: \n",
      "[[[ 5  7]\n",
      "  [ 9 11]]\n",
      "\n",
      " [[13 15]\n",
      "  [17 19]]]\n",
      "\n",
      "Generic form:\n",
      "[[[ 5  7]\n",
      "  [ 9 11]]\n",
      "\n",
      " [[13 15]\n",
      "  [17 19]]]\n",
      "\n",
      "Any number of dimensions specified before:\n",
      "[[ 5  7]\n",
      " [13 15]]\n",
      "\n",
      "Works for the start of the array as well:\n",
      "[[ 5  9]\n",
      " [13 17]\n",
      " [21 25]\n",
      " [29 33]\n",
      " [37 41]]\n",
      "\n"
     ]
    }
   ],
   "source": [
    "print(f\"Specify slices in all dimensions: \\n{rr2[:2,:,:]}\\n\")\n",
    "print(f\"Generic form:\\n{rr2[:2,...]}\\n\")\n",
    "print(f\"Any number of dimensions specified before:\\n{rr2[:2,0,...]}\\n\")\n",
    "print(f\"Works for the start of the array as well:\\n{rr2[...,0]}\\n\")"
   ]
  },
  {
   "cell_type": "markdown",
   "metadata": {},
   "source": [
    "### Matlab users\n",
    "In Matlab, arrays are matrices. That is not true in Python. This means in Matlab, the multiplication is the matrice multiplication, in Python that's multiplication element by element.\n",
    "This [page](https://docs.scipy.org/doc/numpy/user/numpy-for-matlab-users.html#numpy-for-matlab-users-notes) provides a long table of equivalents between Matlab and Python."
   ]
  },
  {
   "cell_type": "markdown",
   "metadata": {},
   "source": [
    "## Operations with arrays along some given axis\n",
    "Obviously, `numpy` has a lot of handy functions for common operations. For example if you want the mean of an array:"
   ]
  },
  {
   "cell_type": "code",
   "execution_count": 41,
   "metadata": {},
   "outputs": [
    {
     "data": {
      "text/plain": [
       "24.0"
      ]
     },
     "execution_count": 41,
     "metadata": {},
     "output_type": "execute_result"
    }
   ],
   "source": [
    "rr2.mean()"
   ]
  },
  {
   "cell_type": "markdown",
   "metadata": {},
   "source": [
    "That's handy, what is even more handy is the possibility to calculate the mean over a given dimension only. For example, rr2 is 3D. Let's say the dimensions are time, latitude and longitude respectively and you want to calculate the time average at each spatial point:"
   ]
  },
  {
   "cell_type": "code",
   "execution_count": 42,
   "metadata": {},
   "outputs": [
    {
     "data": {
      "text/plain": [
       "array([[21., 23.],\n",
       "       [25., 27.]])"
      ]
     },
     "execution_count": 42,
     "metadata": {},
     "output_type": "execute_result"
    }
   ],
   "source": [
    "rr2.mean(axis=0)  # Remember indexes start at 0"
   ]
  },
  {
   "cell_type": "markdown",
   "metadata": {},
   "source": []
  }
 ],
 "metadata": {
  "kernelspec": {
   "display_name": "Python 3",
   "language": "python",
   "name": "python3"
  },
  "language_info": {
   "codemirror_mode": {
    "name": "ipython",
    "version": 3
   },
   "file_extension": ".py",
   "mimetype": "text/x-python",
   "name": "python",
   "nbconvert_exporter": "python",
   "pygments_lexer": "ipython3",
   "version": "3.7.2"
  }
 },
 "nbformat": 4,
 "nbformat_minor": 2
}
