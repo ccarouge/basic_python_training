{
 "cells": [
  {
   "cell_type": "markdown",
   "metadata": {},
   "source": [
    "# Functions\n",
    "Inspiration from: https://www.tutorialspoint.com/python3/python_functions.htm"
   ]
  },
  {
   "cell_type": "markdown",
   "metadata": {},
   "source": [
    "## Definition"
   ]
  },
  {
   "cell_type": "code",
   "execution_count": 57,
   "metadata": {},
   "outputs": [],
   "source": [
    "def my_function(arg1, arg2):\n",
    "    '''Here I can say what my function does.\n",
    "    I can use several lines\n",
    "    arg1: It is a good idea to define the arguments as well\n",
    "    arg2: Another one'''\n",
    "    \n",
    "    print(f'I am going to add {arg1} and {arg2} together')\n",
    "    total = arg1 + arg2\n",
    "    return total"
   ]
  },
  {
   "cell_type": "code",
   "execution_count": 62,
   "metadata": {},
   "outputs": [
    {
     "name": "stdout",
     "output_type": "stream",
     "text": [
      "I am going to add 1 and 2 together\n",
      "3\n"
     ]
    }
   ],
   "source": [
    "add=my_function(1,2)\n",
    "print(add)"
   ]
  },
  {
   "cell_type": "markdown",
   "metadata": {},
   "source": [
    "## Type of arguments"
   ]
  },
  {
   "cell_type": "markdown",
   "metadata": {},
   "source": [
    "You can specify arguments in different ways. You can have required and optional arguments, you can give arguments by position (like above) or by name."
   ]
  },
  {
   "cell_type": "code",
   "execution_count": 64,
   "metadata": {},
   "outputs": [
    {
     "name": "stdout",
     "output_type": "stream",
     "text": [
      "I am going to add 2 and 1 together\n",
      "3\n"
     ]
    }
   ],
   "source": [
    "# Give arguments per name (keyword argument)\n",
    "add=my_function(arg2=1, arg1=2)\n",
    "print(add)\n",
    "\n",
    "# This is illegal. Positional arguments need to be first listed.\n",
    "#add=my_function(arg2=1,2)"
   ]
  },
  {
   "cell_type": "code",
   "execution_count": 75,
   "metadata": {},
   "outputs": [
    {
     "name": "stdout",
     "output_type": "stream",
     "text": [
      "1\n",
      "5\n"
     ]
    }
   ],
   "source": [
    "# Optional arguments:\n",
    "def my_function(arg1, opt=None):\n",
    "    if opt:\n",
    "        return(arg1+opt)\n",
    "    else:\n",
    "        return(arg1)\n",
    "    \n",
    "print(my_function(1))\n",
    "print(my_function(1,4))"
   ]
  },
  {
   "cell_type": "code",
   "execution_count": 76,
   "metadata": {},
   "outputs": [
    {
     "name": "stdout",
     "output_type": "stream",
     "text": [
      "6\n",
      "7\n"
     ]
    }
   ],
   "source": [
    "# Optional arguments can also be used to define default values instead of nothing:\n",
    "def add_5_or(arg1, opt=5):\n",
    "    return(arg1+opt)\n",
    "\n",
    "print(add_5_or(1))\n",
    "print(add_5_or(1,6))"
   ]
  },
  {
   "cell_type": "code",
   "execution_count": 77,
   "metadata": {},
   "outputs": [
    {
     "name": "stdout",
     "output_type": "stream",
     "text": [
      "5\n",
      "5\n"
     ]
    }
   ],
   "source": [
    "# Use lists/tuples or dictionaries to specify arguments\n",
    "t=(1,4)\n",
    "print(add_5_or(*t))\n",
    "\n",
    "dic={'arg1':1, 'opt':4}\n",
    "print(add_5_or(**dic))"
   ]
  },
  {
   "cell_type": "markdown",
   "metadata": {},
   "source": [
    "If you remember, we saw the `**` operator last week with the `str.format()` method. It's exactly the same as here. \n",
    "\n",
    "Specifying arguments via a dictionary can be useful for specifying options for plot routines. When tailoring plots, one usually ends up using a lot of options. Defining a dictionary for those can allow for a more readable code and for easier reuse of the options between plots."
   ]
  },
  {
   "cell_type": "markdown",
   "metadata": {},
   "source": [
    "## Global vs local scope\n",
    "Variables defined in function are local, unknown from the outside of the function.\n",
    "\n",
    "Run the following code. Do you understand what is going on?\n",
    "\n",
    "<div class=\"accordion\" id=\"accordion\">\n",
    "  <div class=\"card\">\n",
    "    <div class=\"card-header\" id=\"headingOne\">\n",
    "      <h5 class=\"mb-0\">\n",
    "        <button class=\"btn btn-link\" type=\"button\" data-toggle=\"collapse\" data-target=\"#expl2\" aria-expanded=\"true\" aria-controls=\"expl2\">\n",
    "          Answer\n",
    "        </button>\n",
    "      </h5>\n",
    "    </div>\n",
    "  <div>\n",
    "    <div id=\"expl2\" class=\"collapse\" aria-labelledby=\"headingOne\" data-parent=\"#accordion\">\n",
    "      <div class=\"card-body\">\n",
    "          <p>The function defines a local object called total. This object only exists within the function. It is independent from the object define outside the function. `total` defined outside the function is in global scope. This means it can be used throughout the body program including the functions body. </p>\n",
    "          <p>If you define a local variable with the same name as a global variable in a function, you can not use the global variable in that function.</p>\n",
    "      </div>\n",
    "    </div>\n",
    "  </div>\n",
    "</div>"
   ]
  },
  {
   "cell_type": "code",
   "execution_count": 82,
   "metadata": {},
   "outputs": [
    {
     "name": "stdout",
     "output_type": "stream",
     "text": [
      "After the function: 0\n",
      "9\n"
     ]
    }
   ],
   "source": [
    "total=0\n",
    "def summing(arg1, arg2):\n",
    "    total = arg1+arg2\n",
    "    return total\n",
    "\n",
    "add = summing(1,2)\n",
    "print(\"After the function:\", total)\n",
    "\n",
    "total=2\n",
    "def sum2(arg1, arg2):\n",
    "    tt = arg1+arg2+total\n",
    "    return tt\n",
    "add = sum2(3,4)\n",
    "print(add)"
   ]
  },
  {
   "cell_type": "markdown",
   "metadata": {},
   "source": [
    "## Pass by Reference vs Value\n",
    "Python passes arguments per reference. That means they still point to the same location in memory outside and within a function.\n",
    "\n",
    "Do you understand what is going on in the following example?\n",
    "\n",
    "<div class=\"accordion\" id=\"accordion\">\n",
    "  <div class=\"card\">\n",
    "    <div class=\"card-header\" id=\"headingOne\">\n",
    "      <h5 class=\"mb-0\">\n",
    "        <button class=\"btn btn-link\" type=\"button\" data-toggle=\"collapse\" data-target=\"#expl3\" aria-expanded=\"true\" aria-controls=\"expl3\">\n",
    "          Explanation\n",
    "        </button>\n",
    "      </h5>\n",
    "    </div>\n",
    "  <div>\n",
    "    <div id=\"expl3\" class=\"collapse\" aria-labelledby=\"headingOne\" data-parent=\"#accordion\">\n",
    "      <div class=\"card-body\">\n",
    "          <p>In changeme(), since li is a global object, it's values get modified despite the function not returning anything. </p>\n",
    "          <p>In changeme2(), li becomes a local variable. The function completely forgets about the argument.</p>\n",
    "          <p>Note the behaviour would be the same without passing li as an argument since li is a global object.</p>\n",
    "          <p>What would happen if li was a tuple instead of a list?</p>\n",
    "      </div>\n",
    "    </div>\n",
    "  </div>\n",
    "</div>"
   ]
  },
  {
   "cell_type": "code",
   "execution_count": 88,
   "metadata": {},
   "outputs": [
    {
     "name": "stdout",
     "output_type": "stream",
     "text": [
      "List at the start: [1, 2]\n",
      "List after changeme: [3, 2]\n",
      "List after changeme2: [3, 2]\n"
     ]
    }
   ],
   "source": [
    "def changeme(li):\n",
    "    li[0] = 3\n",
    "    return\n",
    "\n",
    "def changeme2(li):\n",
    "    li = [5,4]\n",
    "    return\n",
    "\n",
    "li=[1,2]\n",
    "print(f\"List at the start: {li}\")\n",
    "\n",
    "changeme(li)\n",
    "print(f\"List after changeme: {li}\")\n",
    "\n",
    "changeme2(li)\n",
    "print(f\"List after changeme2: {li}\")"
   ]
  },
  {
   "cell_type": "markdown",
   "metadata": {},
   "source": [
    "---"
   ]
  },
  {
   "cell_type": "markdown",
   "metadata": {},
   "source": [
    "# Read in files, Write to files"
   ]
  },
  {
   "cell_type": "code",
   "execution_count": null,
   "metadata": {},
   "outputs": [],
   "source": [
    "# write(), writeline(), writelines()"
   ]
  },
  {
   "cell_type": "markdown",
   "metadata": {},
   "source": [
    "To open a text file, there is the `open()` function. It accepts 2 arguments: name of the file and the opening mode for the file.\n",
    "\n",
    "| Modes | Meaning |\n",
    "|:------:|--------|\n",
    "| r   | read-only mode |\n",
    "| w   | write-only mode |\n",
    "| a   | append to existing file |\n",
    "| r+  | read and write mode |\n",
    "\n",
    "To read in data, there are 3 methods: `read()`, `readline()`, `readlines()`. The only difference is the amount of data they read from the file. `read()` will only read the given number of charaters (or whole file), `readline()` reads the file line by line, `readlines()` reads in the entire file or a maximum number of bytes/characters.\n",
    "\n",
    "To close a file, use the `close()` method."
   ]
  },
  {
   "cell_type": "code",
   "execution_count": 9,
   "metadata": {},
   "outputs": [],
   "source": [
    "# f.seek(0) allows to rewind the file to the start of the file after each read.\n",
    "# Check what each output looks like. What is the difference between `f.read()` and `f.readlines()`?\n",
    "f = open('test.txt','r')\n",
    "whole_file = f.read()\n",
    "f.seek(0)\n",
    "first_line = f.readline()\n",
    "f.seek(0)\n",
    "whole2 = f.readlines()\n",
    "f.close()"
   ]
  },
  {
   "cell_type": "markdown",
   "metadata": {},
   "source": [
    "Writing to a file is pretty symetrical to reading it in:"
   ]
  },
  {
   "cell_type": "code",
   "execution_count": 89,
   "metadata": {},
   "outputs": [],
   "source": [
    "f = open('my_file.txt','w')\n",
    "f.write('Hello!')\n",
    "lines=['Other line', 'One more']\n",
    "f.writelines(lines)\n",
    "f.close()"
   ]
  },
  {
   "cell_type": "markdown",
   "metadata": {},
   "source": [
    "Hmm, something went wrong. Python needs you to specify those are separate lines by adding a newline symbol: `\\n`"
   ]
  },
  {
   "cell_type": "code",
   "execution_count": 90,
   "metadata": {},
   "outputs": [],
   "source": [
    "f = open('my_file.txt','w')\n",
    "f.write('Hello!\\n')\n",
    "lines=['Other line\\n', 'One more\\n']\n",
    "f.writelines(lines)\n",
    "f.close()"
   ]
  },
  {
   "cell_type": "markdown",
   "metadata": {},
   "source": [
    "It is also possible to use the `with` statement to work with files. This is commonly used as it provides better error handling and closes the file for you."
   ]
  },
  {
   "cell_type": "code",
   "execution_count": 11,
   "metadata": {},
   "outputs": [
    {
     "name": "stdout",
     "output_type": "stream",
     "text": [
      "This is an example text file.\n",
      "\n"
     ]
    },
    {
     "ename": "ValueError",
     "evalue": "I/O operation on closed file.",
     "output_type": "error",
     "traceback": [
      "\u001b[0;31m---------------------------------------------------------------------------\u001b[0m",
      "\u001b[0;31mValueError\u001b[0m                                Traceback (most recent call last)",
      "\u001b[0;32m<ipython-input-11-cd3d5c2f217c>\u001b[0m in \u001b[0;36m<module>\u001b[0;34m\u001b[0m\n\u001b[1;32m      2\u001b[0m     \u001b[0mfirst_line\u001b[0m \u001b[0;34m=\u001b[0m \u001b[0mf\u001b[0m\u001b[0;34m.\u001b[0m\u001b[0mreadline\u001b[0m\u001b[0;34m(\u001b[0m\u001b[0;34m)\u001b[0m\u001b[0;34m\u001b[0m\u001b[0;34m\u001b[0m\u001b[0m\n\u001b[1;32m      3\u001b[0m \u001b[0mprint\u001b[0m\u001b[0;34m(\u001b[0m\u001b[0mfirst_line\u001b[0m\u001b[0;34m)\u001b[0m\u001b[0;34m\u001b[0m\u001b[0;34m\u001b[0m\u001b[0m\n\u001b[0;32m----> 4\u001b[0;31m \u001b[0msecond_line\u001b[0m \u001b[0;34m=\u001b[0m \u001b[0mf\u001b[0m\u001b[0;34m.\u001b[0m\u001b[0mreadline\u001b[0m\u001b[0;34m(\u001b[0m\u001b[0;34m)\u001b[0m\u001b[0;34m\u001b[0m\u001b[0;34m\u001b[0m\u001b[0m\n\u001b[0m\u001b[1;32m      5\u001b[0m \u001b[0mprint\u001b[0m\u001b[0;34m(\u001b[0m\u001b[0msecond_line\u001b[0m\u001b[0;34m)\u001b[0m\u001b[0;34m\u001b[0m\u001b[0;34m\u001b[0m\u001b[0m\n",
      "\u001b[0;31mValueError\u001b[0m: I/O operation on closed file."
     ]
    }
   ],
   "source": [
    "with open('test.txt','r') as f:\n",
    "    first_line = f.readline()\n",
    "\n",
    "print(first_line)\n",
    "second_line = f.readline()\n",
    "print(second_line)"
   ]
  },
  {
   "cell_type": "markdown",
   "metadata": {},
   "source": [
    "### Exercise\n",
    "Create a list of the numerical tabular values in test.txt. Make sure the values are of a numeric type (hint: check the Python builtin functions [here](https://docs.python.org/3/library/functions.html#built-in-functions)).\n",
    "\n",
    "The format the list as you wish:\n",
    "\n",
    "`[50,30,40,70,20,30]`\n",
    "\n",
    "`[[50,30,40],[70,20,30]]`\n",
    "\n",
    "`[[50,70],[30,20],[40,30]]`\n",
    "\n",
    "<div class=\"accordion\" id=\"accordion\">\n",
    "  <div class=\"card\">\n",
    "    <div class=\"card-header\" id=\"headingOne\">\n",
    "      <h5 class=\"mb-0\">\n",
    "        <button class=\"btn btn-link\" type=\"button\" data-toggle=\"collapse\" data-target=\"#collapse1\" aria-expanded=\"true\" aria-controls=\"collapse1\">\n",
    "          Answer\n",
    "        </button>\n",
    "      </h5>\n",
    "    </div>\n",
    "  <div>\n",
    "    <div id=\"collapse1\" class=\"collapse\" aria-labelledby=\"headingOne\" data-parent=\"#accordion\">\n",
    "      <div class=\"card-body\">\n",
    "<pre><code>\n",
    "with open('test.txt','r') as f:\n",
    "    # skip the header\n",
    "    head_length=2 # number of lines in the reader\n",
    "    for i in range(head_length):\n",
    "        f.readline()\n",
    "    \n",
    "    # Create a list to store the data\n",
    "    li = []\n",
    "    li2 = []\n",
    "    li3 = []\n",
    "    # Read each line and parse as needed.\n",
    "    for line in f.readlines():\n",
    "        tt = line.split(',')\n",
    "        tmp = [int(numb) for numb in tt]\n",
    "        li.extend(tmp)\n",
    "        li2.append(tmp)\n",
    "        if li3 == []:\n",
    "            li3=[[n] for n in tmp]\n",
    "        else:\n",
    "            for ind in range(len(tmp)):\n",
    "                li3[ind].append(tmp[ind])\n",
    "</code></pre>\n",
    "      </div>\n",
    "    </div>\n",
    "  </div>\n",
    "</div>\n"
   ]
  },
  {
   "cell_type": "code",
   "execution_count": null,
   "metadata": {},
   "outputs": [],
   "source": []
  },
  {
   "cell_type": "markdown",
   "metadata": {},
   "source": [
    "# Additional packages"
   ]
  },
  {
   "cell_type": "code",
   "execution_count": null,
   "metadata": {},
   "outputs": [],
   "source": []
  }
 ],
 "metadata": {
  "kernelspec": {
   "display_name": "Python 3",
   "language": "python",
   "name": "python3"
  },
  "language_info": {
   "codemirror_mode": {
    "name": "ipython",
    "version": 3
   },
   "file_extension": ".py",
   "mimetype": "text/x-python",
   "name": "python",
   "nbconvert_exporter": "python",
   "pygments_lexer": "ipython3",
   "version": "3.7.2"
  }
 },
 "nbformat": 4,
 "nbformat_minor": 2
}
